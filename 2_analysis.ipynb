{
 "cells": [
  {
   "cell_type": "code",
   "execution_count": 2,
   "metadata": {},
   "outputs": [],
   "source": [
    "import pandas as pd\n",
    "import json"
   ]
  },
  {
   "cell_type": "code",
   "execution_count": 3,
   "metadata": {},
   "outputs": [],
   "source": [
    "with open('coms-clean.json') as json_file:\n",
    "    coms = json.load(json_file)\n",
    "with open('evts-detail.json') as json_file:\n",
    "    evts = json.load(json_file)"
   ]
  },
  {
   "cell_type": "code",
   "execution_count": 4,
   "metadata": {},
   "outputs": [],
   "source": [
    "dfcom = pd.DataFrame(coms)\n",
    "dfevt = pd.DataFrame(evts)"
   ]
  },
  {
   "cell_type": "markdown",
   "metadata": {},
   "source": [
    "### Nombre de communes actuelles"
   ]
  },
  {
   "cell_type": "markdown",
   "metadata": {},
   "source": [
    "Total"
   ]
  },
  {
   "cell_type": "code",
   "execution_count": 5,
   "metadata": {},
   "outputs": [
    {
     "data": {
      "text/plain": [
       "(37697, 7)"
      ]
     },
     "execution_count": 5,
     "metadata": {},
     "output_type": "execute_result"
    }
   ],
   "source": [
    "dfcom[dfcom['evtSuppression'].isna()].shape"
   ]
  },
  {
   "cell_type": "markdown",
   "metadata": {},
   "source": [
    "Par type"
   ]
  },
  {
   "cell_type": "code",
   "execution_count": 6,
   "metadata": {},
   "outputs": [
    {
     "data": {
      "text/plain": [
       "COM     34965\n",
       "COMD     2215\n",
       "COMA      517\n",
       "Name: type, dtype: int64"
      ]
     },
     "execution_count": 6,
     "metadata": {},
     "output_type": "execute_result"
    }
   ],
   "source": [
    "dfcom[dfcom['evtSuppression'].isna()]['type'].value_counts()"
   ]
  },
  {
   "cell_type": "markdown",
   "metadata": {},
   "source": [
    "Aucune commune sans événement de création"
   ]
  },
  {
   "cell_type": "code",
   "execution_count": 7,
   "metadata": {},
   "outputs": [
    {
     "data": {
      "text/html": [
       "<div>\n",
       "<style scoped>\n",
       "    .dataframe tbody tr th:only-of-type {\n",
       "        vertical-align: middle;\n",
       "    }\n",
       "\n",
       "    .dataframe tbody tr th {\n",
       "        vertical-align: top;\n",
       "    }\n",
       "\n",
       "    .dataframe thead th {\n",
       "        text-align: right;\n",
       "    }\n",
       "</style>\n",
       "<table border=\"1\" class=\"dataframe\">\n",
       "  <thead>\n",
       "    <tr style=\"text-align: right;\">\n",
       "      <th></th>\n",
       "      <th>codeInsee</th>\n",
       "      <th>nom</th>\n",
       "      <th>nomSansArticle</th>\n",
       "      <th>evtCreation</th>\n",
       "      <th>id</th>\n",
       "      <th>type</th>\n",
       "      <th>evtSuppression</th>\n",
       "    </tr>\n",
       "  </thead>\n",
       "  <tbody>\n",
       "  </tbody>\n",
       "</table>\n",
       "</div>"
      ],
      "text/plain": [
       "Empty DataFrame\n",
       "Columns: [codeInsee, nom, nomSansArticle, evtCreation, id, type, evtSuppression]\n",
       "Index: []"
      ]
     },
     "execution_count": 7,
     "metadata": {},
     "output_type": "execute_result"
    }
   ],
   "source": [
    "dfcom[dfcom['evtCreation'].isna()]"
   ]
  },
  {
   "cell_type": "markdown",
   "metadata": {},
   "source": [
    "Comparaison fichier csv COG datagouv et données sparql"
   ]
  },
  {
   "cell_type": "code",
   "execution_count": 8,
   "metadata": {},
   "outputs": [],
   "source": [
    "df = pd.read_csv('commune2021.csv')"
   ]
  },
  {
   "cell_type": "markdown",
   "metadata": {},
   "source": [
    "Filtre hors ARM : arrondissement"
   ]
  },
  {
   "cell_type": "code",
   "execution_count": 9,
   "metadata": {},
   "outputs": [],
   "source": [
    "listcog = df[df['TYPECOM'] != 'ARM']['COM'].unique().tolist()"
   ]
  },
  {
   "cell_type": "markdown",
   "metadata": {},
   "source": [
    "Filtre commune qui ont eu une suppression pour ne garder que les actuelles"
   ]
  },
  {
   "cell_type": "code",
   "execution_count": 10,
   "metadata": {},
   "outputs": [],
   "source": [
    "listrdf = dfcom[dfcom['evtSuppression'].isna()]['codeInsee'].unique().tolist()"
   ]
  },
  {
   "cell_type": "markdown",
   "metadata": {},
   "source": [
    "Comparaison des deux listes"
   ]
  },
  {
   "cell_type": "code",
   "execution_count": 11,
   "metadata": {},
   "outputs": [
    {
     "data": {
      "text/plain": [
       "[]"
      ]
     },
     "execution_count": 11,
     "metadata": {},
     "output_type": "execute_result"
    }
   ],
   "source": [
    "list(set(listcog) - set(listrdf))"
   ]
  },
  {
   "cell_type": "code",
   "execution_count": 12,
   "metadata": {},
   "outputs": [
    {
     "data": {
      "text/plain": [
       "37077"
      ]
     },
     "execution_count": 12,
     "metadata": {},
     "output_type": "execute_result"
    }
   ],
   "source": [
    "len(listcog)"
   ]
  },
  {
   "cell_type": "code",
   "execution_count": 13,
   "metadata": {},
   "outputs": [
    {
     "data": {
      "text/plain": [
       "37077"
      ]
     },
     "execution_count": 13,
     "metadata": {},
     "output_type": "execute_result"
    }
   ],
   "source": [
    "len(listrdf)"
   ]
  },
  {
   "cell_type": "markdown",
   "metadata": {},
   "source": [
    "=> On est bon"
   ]
  },
  {
   "cell_type": "markdown",
   "metadata": {},
   "source": [
    "### Fonctions"
   ]
  },
  {
   "cell_type": "markdown",
   "metadata": {},
   "source": [
    "Fonctions récupération evt"
   ]
  },
  {
   "cell_type": "code",
   "execution_count": 22,
   "metadata": {},
   "outputs": [],
   "source": [
    "def getEvtByCodeInsee(codeInsee):\n",
    "    list_coms = dfcom[dfcom['codeInsee'] == codeInsee].id.to_list()\n",
    "    print(list_coms)\n",
    "    dftest = dfevt\n",
    "    dftest['is_create'] = dftest['creation'].apply(lambda x: not set(list_coms).isdisjoint(x))\n",
    "    df1 = dftest[dftest['is_create'] == True]\n",
    "    dftest['is_supp'] = dftest['suppression'].apply(lambda x: not set(list_coms).isdisjoint(x))\n",
    "    df2 = dftest[dftest['is_supp'] == True]\n",
    "    df3 = pd.concat([df1,df2])\n",
    "    return df3[~df3.index.duplicated(keep='first')].sort_values(by=['nom'])"
   ]
  },
  {
   "cell_type": "code",
   "execution_count": 23,
   "metadata": {},
   "outputs": [],
   "source": [
    "def getEvtByNom(nom):\n",
    "    list_coms = dfcom[dfcom['nom'] == nom].id.to_list()\n",
    "    print(list_coms)\n",
    "    dftest = dfevt\n",
    "    dftest['is_create'] = dftest['creation'].apply(lambda x: not set(list_coms).isdisjoint(x))\n",
    "    df1 = dftest[dftest['is_create'] == True]\n",
    "    dftest['is_supp'] = dftest['suppression'].apply(lambda x: not set(list_coms).isdisjoint(x))\n",
    "    df2 = dftest[dftest['is_supp'] == True]\n",
    "    df3 = pd.concat([df1,df2])\n",
    "    return df3[~df3.index.duplicated(keep='first')].sort_values(by=['nom'])"
   ]
  },
  {
   "cell_type": "code",
   "execution_count": 24,
   "metadata": {},
   "outputs": [
    {
     "name": "stdout",
     "output_type": "stream",
     "text": [
      "['d171728d-5c4a-48a7-83c2-f62e8db01f99', 'a0dc41c9-8026-4382-9f5c-5b4075ab90e8', 'bfb5f656-4440-4561-bb49-e2136b9b7803']\n"
     ]
    },
    {
     "data": {
      "text/html": [
       "<div>\n",
       "<style scoped>\n",
       "    .dataframe tbody tr th:only-of-type {\n",
       "        vertical-align: middle;\n",
       "    }\n",
       "\n",
       "    .dataframe tbody tr th {\n",
       "        vertical-align: top;\n",
       "    }\n",
       "\n",
       "    .dataframe thead th {\n",
       "        text-align: right;\n",
       "    }\n",
       "</style>\n",
       "<table border=\"1\" class=\"dataframe\">\n",
       "  <thead>\n",
       "    <tr style=\"text-align: right;\">\n",
       "      <th></th>\n",
       "      <th>creation</th>\n",
       "      <th>suppression</th>\n",
       "      <th>nom</th>\n",
       "      <th>id</th>\n",
       "      <th>type</th>\n",
       "      <th>creationObj</th>\n",
       "      <th>suppressionObj</th>\n",
       "      <th>is_create</th>\n",
       "      <th>is_supp</th>\n",
       "    </tr>\n",
       "  </thead>\n",
       "  <tbody>\n",
       "    <tr>\n",
       "      <th>4469</th>\n",
       "      <td>[4c09a74f-4b9d-4c2c-9e03-5574c979aa97, 0ce410a...</td>\n",
       "      <td>[]</td>\n",
       "      <td>1943-01-01</td>\n",
       "      <td>904dcf14-b895-4686-a5c5-7304c6f63cae</td>\n",
       "      <td>evenement</td>\n",
       "      <td>[{'codeInsee': '32019', 'nom': 'Auterive', 'no...</td>\n",
       "      <td>[]</td>\n",
       "      <td>True</td>\n",
       "      <td>False</td>\n",
       "    </tr>\n",
       "    <tr>\n",
       "      <th>563</th>\n",
       "      <td>[d171728d-5c4a-48a7-83c2-f62e8db01f99, bfb5f65...</td>\n",
       "      <td>[a1ee0f67-b657-418d-822b-7eaab68a89eb, 826d072...</td>\n",
       "      <td>2016-01-01</td>\n",
       "      <td>40ae74a8-6433-4dfa-a388-c98b629954d5</td>\n",
       "      <td>evenement</td>\n",
       "      <td>[{'codeInsee': '27032', 'nom': 'Chambois', 'no...</td>\n",
       "      <td>[{'codeInsee': '27634', 'nom': 'Thomer-la-Sôgn...</td>\n",
       "      <td>True</td>\n",
       "      <td>True</td>\n",
       "    </tr>\n",
       "    <tr>\n",
       "      <th>5060</th>\n",
       "      <td>[]</td>\n",
       "      <td>[bfb5f656-4440-4561-bb49-e2136b9b7803, 9bd0400...</td>\n",
       "      <td>2020-12-31</td>\n",
       "      <td>4d54af6e-0a1a-4b4f-970b-3aa95d51e21e</td>\n",
       "      <td>evenement</td>\n",
       "      <td>[]</td>\n",
       "      <td>[]</td>\n",
       "      <td>False</td>\n",
       "      <td>True</td>\n",
       "    </tr>\n",
       "  </tbody>\n",
       "</table>\n",
       "</div>"
      ],
      "text/plain": [
       "                                               creation  \\\n",
       "4469  [4c09a74f-4b9d-4c2c-9e03-5574c979aa97, 0ce410a...   \n",
       "563   [d171728d-5c4a-48a7-83c2-f62e8db01f99, bfb5f65...   \n",
       "5060                                                 []   \n",
       "\n",
       "                                            suppression         nom  \\\n",
       "4469                                                 []  1943-01-01   \n",
       "563   [a1ee0f67-b657-418d-822b-7eaab68a89eb, 826d072...  2016-01-01   \n",
       "5060  [bfb5f656-4440-4561-bb49-e2136b9b7803, 9bd0400...  2020-12-31   \n",
       "\n",
       "                                        id       type  \\\n",
       "4469  904dcf14-b895-4686-a5c5-7304c6f63cae  evenement   \n",
       "563   40ae74a8-6433-4dfa-a388-c98b629954d5  evenement   \n",
       "5060  4d54af6e-0a1a-4b4f-970b-3aa95d51e21e  evenement   \n",
       "\n",
       "                                            creationObj  \\\n",
       "4469  [{'codeInsee': '32019', 'nom': 'Auterive', 'no...   \n",
       "563   [{'codeInsee': '27032', 'nom': 'Chambois', 'no...   \n",
       "5060                                                 []   \n",
       "\n",
       "                                         suppressionObj  is_create  is_supp  \n",
       "4469                                                 []       True    False  \n",
       "563   [{'codeInsee': '27634', 'nom': 'Thomer-la-Sôgn...       True     True  \n",
       "5060                                                 []      False     True  "
      ]
     },
     "execution_count": 24,
     "metadata": {},
     "output_type": "execute_result"
    }
   ],
   "source": [
    "getEvtByCodeInsee('27032')"
   ]
  },
  {
   "cell_type": "code",
   "execution_count": 25,
   "metadata": {},
   "outputs": [
    {
     "name": "stdout",
     "output_type": "stream",
     "text": [
      "['a0dc41c9-8026-4382-9f5c-5b4075ab90e8', '0c3cf932-0ae5-42b8-93ab-e1a0e13af1c1', '832adfcd-9b9f-40d1-a3fb-17b5e58196d1', 'bfb5f656-4440-4561-bb49-e2136b9b7803']\n"
     ]
    },
    {
     "data": {
      "text/html": [
       "<div>\n",
       "<style scoped>\n",
       "    .dataframe tbody tr th:only-of-type {\n",
       "        vertical-align: middle;\n",
       "    }\n",
       "\n",
       "    .dataframe tbody tr th {\n",
       "        vertical-align: top;\n",
       "    }\n",
       "\n",
       "    .dataframe thead th {\n",
       "        text-align: right;\n",
       "    }\n",
       "</style>\n",
       "<table border=\"1\" class=\"dataframe\">\n",
       "  <thead>\n",
       "    <tr style=\"text-align: right;\">\n",
       "      <th></th>\n",
       "      <th>creation</th>\n",
       "      <th>suppression</th>\n",
       "      <th>nom</th>\n",
       "      <th>id</th>\n",
       "      <th>type</th>\n",
       "      <th>creationObj</th>\n",
       "      <th>suppressionObj</th>\n",
       "      <th>is_create</th>\n",
       "      <th>is_supp</th>\n",
       "    </tr>\n",
       "  </thead>\n",
       "  <tbody>\n",
       "    <tr>\n",
       "      <th>4469</th>\n",
       "      <td>[4c09a74f-4b9d-4c2c-9e03-5574c979aa97, 0ce410a...</td>\n",
       "      <td>[]</td>\n",
       "      <td>1943-01-01</td>\n",
       "      <td>904dcf14-b895-4686-a5c5-7304c6f63cae</td>\n",
       "      <td>evenement</td>\n",
       "      <td>[{'codeInsee': '32019', 'nom': 'Auterive', 'no...</td>\n",
       "      <td>[]</td>\n",
       "      <td>True</td>\n",
       "      <td>False</td>\n",
       "    </tr>\n",
       "    <tr>\n",
       "      <th>563</th>\n",
       "      <td>[d171728d-5c4a-48a7-83c2-f62e8db01f99, bfb5f65...</td>\n",
       "      <td>[a1ee0f67-b657-418d-822b-7eaab68a89eb, 826d072...</td>\n",
       "      <td>2016-01-01</td>\n",
       "      <td>40ae74a8-6433-4dfa-a388-c98b629954d5</td>\n",
       "      <td>evenement</td>\n",
       "      <td>[{'codeInsee': '27032', 'nom': 'Chambois', 'no...</td>\n",
       "      <td>[{'codeInsee': '27634', 'nom': 'Thomer-la-Sôgn...</td>\n",
       "      <td>True</td>\n",
       "      <td>True</td>\n",
       "    </tr>\n",
       "    <tr>\n",
       "      <th>5060</th>\n",
       "      <td>[]</td>\n",
       "      <td>[bfb5f656-4440-4561-bb49-e2136b9b7803, 9bd0400...</td>\n",
       "      <td>2020-12-31</td>\n",
       "      <td>4d54af6e-0a1a-4b4f-970b-3aa95d51e21e</td>\n",
       "      <td>evenement</td>\n",
       "      <td>[]</td>\n",
       "      <td>[]</td>\n",
       "      <td>False</td>\n",
       "      <td>True</td>\n",
       "    </tr>\n",
       "  </tbody>\n",
       "</table>\n",
       "</div>"
      ],
      "text/plain": [
       "                                               creation  \\\n",
       "4469  [4c09a74f-4b9d-4c2c-9e03-5574c979aa97, 0ce410a...   \n",
       "563   [d171728d-5c4a-48a7-83c2-f62e8db01f99, bfb5f65...   \n",
       "5060                                                 []   \n",
       "\n",
       "                                            suppression         nom  \\\n",
       "4469                                                 []  1943-01-01   \n",
       "563   [a1ee0f67-b657-418d-822b-7eaab68a89eb, 826d072...  2016-01-01   \n",
       "5060  [bfb5f656-4440-4561-bb49-e2136b9b7803, 9bd0400...  2020-12-31   \n",
       "\n",
       "                                        id       type  \\\n",
       "4469  904dcf14-b895-4686-a5c5-7304c6f63cae  evenement   \n",
       "563   40ae74a8-6433-4dfa-a388-c98b629954d5  evenement   \n",
       "5060  4d54af6e-0a1a-4b4f-970b-3aa95d51e21e  evenement   \n",
       "\n",
       "                                            creationObj  \\\n",
       "4469  [{'codeInsee': '32019', 'nom': 'Auterive', 'no...   \n",
       "563   [{'codeInsee': '27032', 'nom': 'Chambois', 'no...   \n",
       "5060                                                 []   \n",
       "\n",
       "                                         suppressionObj  is_create  is_supp  \n",
       "4469                                                 []       True    False  \n",
       "563   [{'codeInsee': '27634', 'nom': 'Thomer-la-Sôgn...       True     True  \n",
       "5060                                                 []      False     True  "
      ]
     },
     "execution_count": 25,
     "metadata": {},
     "output_type": "execute_result"
    }
   ],
   "source": [
    "getEvtByNom('Avrilly')"
   ]
  },
  {
   "cell_type": "markdown",
   "metadata": {},
   "source": [
    "Analyse nombre création / suppression par événement"
   ]
  },
  {
   "cell_type": "code",
   "execution_count": 26,
   "metadata": {},
   "outputs": [],
   "source": [
    "dfevt['nb_creation'] = dfevt['creation'].apply(lambda x: len(x))\n",
    "dfevt['nb_suppression'] = dfevt['suppression'].apply(lambda x: len(x))"
   ]
  },
  {
   "cell_type": "markdown",
   "metadata": {},
   "source": [
    "Combien d'événement ont concerné plus d'une commune en création et plus d'une commune en suppression :"
   ]
  },
  {
   "cell_type": "code",
   "execution_count": 30,
   "metadata": {},
   "outputs": [
    {
     "data": {
      "text/plain": [
       "1798"
      ]
     },
     "execution_count": 30,
     "metadata": {},
     "output_type": "execute_result"
    }
   ],
   "source": [
    "dfevt[(dfevt['nb_creation'] > 1) & (dfevt['nb_suppression'] > 1)].shape[0]"
   ]
  },
  {
   "cell_type": "markdown",
   "metadata": {},
   "source": [
    "Combien d'événement ont impliqués plus de communes créées que de communes supprimées :"
   ]
  },
  {
   "cell_type": "code",
   "execution_count": 31,
   "metadata": {},
   "outputs": [
    {
     "data": {
      "text/plain": [
       "657"
      ]
     },
     "execution_count": 31,
     "metadata": {},
     "output_type": "execute_result"
    }
   ],
   "source": [
    "dfevt[(dfevt['nb_creation'] > 1) & (dfevt['nb_suppression'] > 1) & (dfevt['nb_creation'] >= dfevt['nb_suppression']+1)].shape[0]"
   ]
  },
  {
   "cell_type": "markdown",
   "metadata": {},
   "source": [
    "On à toujours au max qu'une seule création en plus que de suppression :"
   ]
  },
  {
   "cell_type": "code",
   "execution_count": 32,
   "metadata": {},
   "outputs": [
    {
     "data": {
      "text/plain": [
       "0"
      ]
     },
     "execution_count": 32,
     "metadata": {},
     "output_type": "execute_result"
    }
   ],
   "source": [
    "dfevt[(dfevt['nb_creation'] > 1) & (dfevt['nb_suppression'] > 1) & (dfevt['nb_creation'] >= dfevt['nb_suppression']+2)].shape[0]"
   ]
  },
  {
   "cell_type": "markdown",
   "metadata": {},
   "source": [
    "On va rechercher les événements qui ont créé plus d'une commune COM :"
   ]
  },
  {
   "cell_type": "code",
   "execution_count": 48,
   "metadata": {},
   "outputs": [],
   "source": [
    "dftest = dfevt[(dfevt['nb_creation'] > 1) & (dfevt['nb_suppression'] > 1) & (dfevt['nb_creation'] >= dfevt['nb_suppression']+1)]"
   ]
  },
  {
   "cell_type": "code",
   "execution_count": 51,
   "metadata": {},
   "outputs": [
    {
     "name": "stdout",
     "output_type": "stream",
     "text": [
      "---------\n",
      "Evenement 637f4e23-fb2d-4f95-8bd6-36c78c699b3b : \n",
      "Suppression : 3 communes, 0 communes déléguées, 0 communes associées\n",
      "Creation : 4 communes, 0 communes déléguées, 0 communes associées\n",
      "---------\n",
      "Evenement 38377343-88a6-458b-8142-162370e38638 : \n",
      "Suppression : 2 communes, 0 communes déléguées, 0 communes associées\n",
      "Creation : 3 communes, 0 communes déléguées, 0 communes associées\n",
      "---------\n",
      "Evenement 2c4e2074-25ce-40a1-b7d3-39e28a238982 : \n",
      "Suppression : 4 communes, 0 communes déléguées, 0 communes associées\n",
      "Creation : 5 communes, 0 communes déléguées, 0 communes associées\n",
      "---------\n",
      "Evenement 662cfa72-c4e3-49d1-94bb-7ee067c3a726 : \n",
      "Suppression : 8 communes, 0 communes déléguées, 0 communes associées\n",
      "Creation : 9 communes, 0 communes déléguées, 0 communes associées\n",
      "---------\n",
      "Evenement 2cc22e41-441b-4897-ad76-22fc1cd17415 : \n",
      "Suppression : 2 communes, 0 communes déléguées, 0 communes associées\n",
      "Creation : 3 communes, 0 communes déléguées, 0 communes associées\n",
      "---------\n",
      "Evenement dff908d5-1c97-494e-8a67-97745f02fb84 : \n",
      "Suppression : 2 communes, 0 communes déléguées, 0 communes associées\n",
      "Creation : 3 communes, 0 communes déléguées, 0 communes associées\n"
     ]
    }
   ],
   "source": [
    "arr = []\n",
    "for index, row in dftest.iterrows():\n",
    "    nb_com_in = 0\n",
    "    nb_coma_in = 0\n",
    "    nb_comd_in = 0\n",
    "    nb_com_out = 0\n",
    "    nb_coma_out = 0\n",
    "    nb_comd_out = 0\n",
    "    for com in row['creationObj']:\n",
    "        if(com['type'] == 'COM'):\n",
    "            nb_com_out = nb_com_out + 1\n",
    "        if(com['type'] == 'COMD'):\n",
    "            nb_comd_out = nb_comd_out + 1\n",
    "        if(com['type'] == 'COMA'):\n",
    "            nb_coma_out = nb_coma_out + 1\n",
    "    for com in row['suppressionObj']:\n",
    "        if(com['type'] == 'COM'):\n",
    "            nb_com_in = nb_com_in + 1\n",
    "        if(com['type'] == 'COMD'):\n",
    "            nb_comd_in = nb_comd_in + 1\n",
    "        if(com['type'] == 'COMA'):\n",
    "            nb_coma_in = nb_coma_in + 1\n",
    "    if(nb_com_out > 1):\n",
    "        arr.append(row)\n",
    "        print('---------')\n",
    "        print('Evenement '+row['id']+' : ')\n",
    "        print('Suppression : '+str(nb_com_in)+' communes, '+str(nb_comd_in)+' communes déléguées, '+str(nb_coma_in)+' communes associées')\n",
    "        print('Creation : '+str(nb_com_out)+' communes, '+str(nb_comd_out)+' communes déléguées, '+str(nb_coma_out)+' communes associées')\n",
    "\n",
    "dfout = pd.DataFrame(arr)"
   ]
  },
  {
   "cell_type": "code",
   "execution_count": 61,
   "metadata": {},
   "outputs": [
    {
     "name": "stdout",
     "output_type": "stream",
     "text": [
      "-------\n",
      "Vaulnaveys-le-Haut (38529 - COM) ; Séchilienne (38478 - COM) ; Saint-Martin-d'Uriage (38422 - COM) ; \n",
      "deviennent\n",
      "Chamrousse (38567 - COM) ; Vaulnaveys-le-Haut (38529 - COM) ; Séchilienne (38478 - COM) ; Saint-Martin-d'Uriage (38422 - COM) ; \n",
      "-------\n",
      "Bures-sur-Yvette (91122 - COM) ; Orsay (91471 - COM) ; \n",
      "deviennent\n",
      "Bures-sur-Yvette (91122 - COM) ; Les Ulis (91692 - COM) ; Orsay (91471 - COM) ; \n",
      "-------\n",
      "Saint-Jean-Lespinasse (46271 - COM) ; Saint-Vincent-du-Pendit (46295 - COM) ; Saint-Médard-de-Presque (46281 - COM) ; Saint-Céré (46251 - COM) ; \n",
      "deviennent\n",
      "Saint-Médard-de-Presque (46281 - COM) ; Saint-Vincent-du-Pendit (46295 - COM) ; Saint-Jean-Lespinasse (46271 - COM) ; Saint-Jean-Lagineste (46339 - COM) ; Saint-Céré (46251 - COM) ; \n",
      "-------\n",
      "Porte-Joie (27471 - COM) ; Poses (27474 - COM) ; Tournedos-sur-Seine (27651 - COM) ; Léry (27365 - COM) ; Saint-Pierre-du-Vauvray (27598 - COM) ; Incarville (27351 - COM) ; Saint-Étienne-du-Vauvray (27537 - COM) ; Le Vaudreuil (27528 - COM) ; \n",
      "deviennent\n",
      "Tournedos-sur-Seine (27651 - COM) ; Porte-Joie (27471 - COM) ; Le Vaudreuil (27528 - COM) ; Léry (27365 - COM) ; Vaudreuil-Ex-Ensemble Urbain (27701 - COM) ; Saint-Pierre-du-Vauvray (27598 - COM) ; Poses (27474 - COM) ; Incarville (27351 - COM) ; Saint-Étienne-du-Vauvray (27537 - COM) ; \n",
      "-------\n",
      "Saint-Ségal (29263 - COM) ; Quimerch (29231 - COM) ; \n",
      "deviennent\n",
      "Saint-Ségal (29263 - COM) ; Quimerch (29231 - COM) ; Pont-de-Buis (29302 - COM) ; \n",
      "-------\n",
      "Fameck (57206 - COM) ; Ranguevaux (57562 - COM) ; \n",
      "deviennent\n",
      "Ranguevaux (57562 - COM) ; Saint-Nicolas-en-Forêt (57766 - COM) ; Fameck (57206 - COM) ; \n"
     ]
    }
   ],
   "source": [
    "for index, row in dfout.iterrows():\n",
    "    print('-------')\n",
    "    mystr = ''\n",
    "    for com in row['suppressionObj']:\n",
    "        mystr = mystr+com['nom']+' ('+com['codeInsee']+' - '+com['type']+') ; '\n",
    "    \n",
    "    mystr = mystr + '\\ndeviennent\\n'\n",
    "                                          \n",
    "    for com in row['creationObj']:\n",
    "        mystr = mystr+com['nom']+' ('+com['codeInsee']+' - '+com['type']+') ; '\n",
    "    print(mystr)"
   ]
  },
  {
   "cell_type": "code",
   "execution_count": null,
   "metadata": {},
   "outputs": [],
   "source": []
  }
 ],
 "metadata": {
  "kernelspec": {
   "display_name": "Python 3 (ipykernel)",
   "language": "python",
   "name": "python3"
  },
  "language_info": {
   "codemirror_mode": {
    "name": "ipython",
    "version": 3
   },
   "file_extension": ".py",
   "mimetype": "text/x-python",
   "name": "python",
   "nbconvert_exporter": "python",
   "pygments_lexer": "ipython3",
   "version": "3.7.4"
  }
 },
 "nbformat": 4,
 "nbformat_minor": 2
}
