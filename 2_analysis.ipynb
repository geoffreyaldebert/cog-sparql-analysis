{
 "cells": [
  {
   "cell_type": "code",
   "execution_count": 63,
   "metadata": {},
   "outputs": [],
   "source": [
    "import pandas as pd\n",
    "import json"
   ]
  },
  {
   "cell_type": "code",
   "execution_count": 64,
   "metadata": {},
   "outputs": [],
   "source": [
    "with open('coms-clean.json') as json_file:\n",
    "    coms = json.load(json_file)\n",
    "with open('evts-detail.json') as json_file:\n",
    "    evts = json.load(json_file)"
   ]
  },
  {
   "cell_type": "code",
   "execution_count": 65,
   "metadata": {},
   "outputs": [],
   "source": [
    "dfcom = pd.DataFrame(coms)\n",
    "dfevt = pd.DataFrame(evts)"
   ]
  },
  {
   "cell_type": "markdown",
   "metadata": {},
   "source": [
    "### Nombre de communes actuelles"
   ]
  },
  {
   "cell_type": "markdown",
   "metadata": {},
   "source": [
    "Total"
   ]
  },
  {
   "cell_type": "code",
   "execution_count": 66,
   "metadata": {},
   "outputs": [
    {
     "data": {
      "text/plain": [
       "(37697, 7)"
      ]
     },
     "execution_count": 66,
     "metadata": {},
     "output_type": "execute_result"
    }
   ],
   "source": [
    "dfcom[dfcom['evtSuppression'].isna()].shape"
   ]
  },
  {
   "cell_type": "markdown",
   "metadata": {},
   "source": [
    "Par type"
   ]
  },
  {
   "cell_type": "code",
   "execution_count": 67,
   "metadata": {},
   "outputs": [
    {
     "data": {
      "text/plain": [
       "COM     34965\n",
       "COMD     2215\n",
       "COMA      517\n",
       "Name: type, dtype: int64"
      ]
     },
     "execution_count": 67,
     "metadata": {},
     "output_type": "execute_result"
    }
   ],
   "source": [
    "dfcom[dfcom['evtSuppression'].isna()]['type'].value_counts()"
   ]
  },
  {
   "cell_type": "markdown",
   "metadata": {},
   "source": [
    "Aucune commune sans événement de création"
   ]
  },
  {
   "cell_type": "code",
   "execution_count": 68,
   "metadata": {},
   "outputs": [
    {
     "data": {
      "text/html": [
       "<div>\n",
       "<style scoped>\n",
       "    .dataframe tbody tr th:only-of-type {\n",
       "        vertical-align: middle;\n",
       "    }\n",
       "\n",
       "    .dataframe tbody tr th {\n",
       "        vertical-align: top;\n",
       "    }\n",
       "\n",
       "    .dataframe thead th {\n",
       "        text-align: right;\n",
       "    }\n",
       "</style>\n",
       "<table border=\"1\" class=\"dataframe\">\n",
       "  <thead>\n",
       "    <tr style=\"text-align: right;\">\n",
       "      <th></th>\n",
       "      <th>codeInsee</th>\n",
       "      <th>nom</th>\n",
       "      <th>nomSansArticle</th>\n",
       "      <th>evtCreation</th>\n",
       "      <th>id</th>\n",
       "      <th>type</th>\n",
       "      <th>evtSuppression</th>\n",
       "    </tr>\n",
       "  </thead>\n",
       "  <tbody>\n",
       "  </tbody>\n",
       "</table>\n",
       "</div>"
      ],
      "text/plain": [
       "Empty DataFrame\n",
       "Columns: [codeInsee, nom, nomSansArticle, evtCreation, id, type, evtSuppression]\n",
       "Index: []"
      ]
     },
     "execution_count": 68,
     "metadata": {},
     "output_type": "execute_result"
    }
   ],
   "source": [
    "dfcom[dfcom['evtCreation'].isna()]"
   ]
  },
  {
   "cell_type": "markdown",
   "metadata": {},
   "source": [
    "Comparaison fichier csv COG datagouv et données sparql"
   ]
  },
  {
   "cell_type": "code",
   "execution_count": 69,
   "metadata": {},
   "outputs": [],
   "source": [
    "df = pd.read_csv('commune2021.csv')"
   ]
  },
  {
   "cell_type": "code",
   "execution_count": 70,
   "metadata": {},
   "outputs": [
    {
     "data": {
      "text/html": [
       "<div>\n",
       "<style scoped>\n",
       "    .dataframe tbody tr th:only-of-type {\n",
       "        vertical-align: middle;\n",
       "    }\n",
       "\n",
       "    .dataframe tbody tr th {\n",
       "        vertical-align: top;\n",
       "    }\n",
       "\n",
       "    .dataframe thead th {\n",
       "        text-align: right;\n",
       "    }\n",
       "</style>\n",
       "<table border=\"1\" class=\"dataframe\">\n",
       "  <thead>\n",
       "    <tr style=\"text-align: right;\">\n",
       "      <th></th>\n",
       "      <th>TYPECOM</th>\n",
       "      <th>COM</th>\n",
       "      <th>REG</th>\n",
       "      <th>DEP</th>\n",
       "      <th>CTCD</th>\n",
       "      <th>ARR</th>\n",
       "      <th>TNCC</th>\n",
       "      <th>NCC</th>\n",
       "      <th>NCCENR</th>\n",
       "      <th>LIBELLE</th>\n",
       "      <th>CAN</th>\n",
       "      <th>COMPARENT</th>\n",
       "    </tr>\n",
       "  </thead>\n",
       "  <tbody>\n",
       "    <tr>\n",
       "      <th>7092</th>\n",
       "      <td>COMA</td>\n",
       "      <td>19267</td>\n",
       "      <td>NaN</td>\n",
       "      <td>NaN</td>\n",
       "      <td>NaN</td>\n",
       "      <td>NaN</td>\n",
       "      <td>3</td>\n",
       "      <td>TOURETTE</td>\n",
       "      <td>Tourette</td>\n",
       "      <td>La Tourette</td>\n",
       "      <td>NaN</td>\n",
       "      <td>19275.0</td>\n",
       "    </tr>\n",
       "  </tbody>\n",
       "</table>\n",
       "</div>"
      ],
      "text/plain": [
       "     TYPECOM    COM  REG  DEP CTCD  ARR  TNCC       NCC    NCCENR  \\\n",
       "7092    COMA  19267  NaN  NaN  NaN  NaN     3  TOURETTE  Tourette   \n",
       "\n",
       "          LIBELLE  CAN  COMPARENT  \n",
       "7092  La Tourette  NaN    19275.0  "
      ]
     },
     "execution_count": 70,
     "metadata": {},
     "output_type": "execute_result"
    }
   ],
   "source": [
    "df[(df['TYPECOM'] == 'COMA') & (df['COM'] == '19267')]"
   ]
  },
  {
   "cell_type": "markdown",
   "metadata": {},
   "source": [
    "Filtre hors ARM : arrondissement"
   ]
  },
  {
   "cell_type": "code",
   "execution_count": 71,
   "metadata": {},
   "outputs": [],
   "source": [
    "listcog = df[df['TYPECOM'] != 'ARM']['COM'].unique().tolist()"
   ]
  },
  {
   "cell_type": "markdown",
   "metadata": {},
   "source": [
    "Filtre commune qui ont eu une suppression pour ne garder que les actuelles"
   ]
  },
  {
   "cell_type": "code",
   "execution_count": 72,
   "metadata": {},
   "outputs": [],
   "source": [
    "listrdf = dfcom[dfcom['evtSuppression'].isna()]['codeInsee'].unique().tolist()"
   ]
  },
  {
   "cell_type": "markdown",
   "metadata": {},
   "source": [
    "Comparaison des deux listes"
   ]
  },
  {
   "cell_type": "code",
   "execution_count": 73,
   "metadata": {},
   "outputs": [
    {
     "data": {
      "text/plain": [
       "[]"
      ]
     },
     "execution_count": 73,
     "metadata": {},
     "output_type": "execute_result"
    }
   ],
   "source": [
    "list(set(listcog) - set(listrdf))"
   ]
  },
  {
   "cell_type": "code",
   "execution_count": 74,
   "metadata": {},
   "outputs": [
    {
     "data": {
      "text/plain": [
       "37077"
      ]
     },
     "execution_count": 74,
     "metadata": {},
     "output_type": "execute_result"
    }
   ],
   "source": [
    "len(listcog)"
   ]
  },
  {
   "cell_type": "code",
   "execution_count": 75,
   "metadata": {},
   "outputs": [
    {
     "data": {
      "text/plain": [
       "37077"
      ]
     },
     "execution_count": 75,
     "metadata": {},
     "output_type": "execute_result"
    }
   ],
   "source": [
    "len(listrdf)"
   ]
  },
  {
   "cell_type": "markdown",
   "metadata": {},
   "source": [
    "=> On est bon"
   ]
  },
  {
   "cell_type": "markdown",
   "metadata": {},
   "source": [
    "### Fonctions"
   ]
  },
  {
   "cell_type": "markdown",
   "metadata": {},
   "source": [
    "Fonctions récupération evt"
   ]
  },
  {
   "cell_type": "code",
   "execution_count": 76,
   "metadata": {},
   "outputs": [],
   "source": [
    "def getEvtByCodeInsee(codeInsee):\n",
    "    list_coms = dfcom[dfcom['codeInsee'] == codeInsee].id.to_list()\n",
    "    print(list_coms)\n",
    "    dftest = dfevt\n",
    "    dftest['is_create'] = dftest['creation'].apply(lambda x: not set(list_coms).isdisjoint(x))\n",
    "    df1 = dftest[dftest['is_create'] == True]\n",
    "    dftest['is_supp'] = dftest['suppression'].apply(lambda x: not set(list_coms).isdisjoint(x))\n",
    "    df2 = dftest[dftest['is_supp'] == True]\n",
    "    df3 = pd.concat([df1,df2])\n",
    "    return df3[~df3.index.duplicated(keep='first')].sort_values(by=['date'])"
   ]
  },
  {
   "cell_type": "code",
   "execution_count": 77,
   "metadata": {},
   "outputs": [],
   "source": [
    "def getEvtByNom(nom):\n",
    "    list_coms = dfcom[dfcom['nom'] == nom].id.to_list()\n",
    "    print(list_coms)\n",
    "    dftest = dfevt\n",
    "    dftest['is_create'] = dftest['creation'].apply(lambda x: not set(list_coms).isdisjoint(x))\n",
    "    df1 = dftest[dftest['is_create'] == True]\n",
    "    dftest['is_supp'] = dftest['suppression'].apply(lambda x: not set(list_coms).isdisjoint(x))\n",
    "    df2 = dftest[dftest['is_supp'] == True]\n",
    "    df3 = pd.concat([df1,df2])\n",
    "    return df3[~df3.index.duplicated(keep='first')].sort_values(by=['date'])"
   ]
  },
  {
   "cell_type": "code",
   "execution_count": 78,
   "metadata": {},
   "outputs": [
    {
     "name": "stdout",
     "output_type": "stream",
     "text": [
      "['d171728d-5c4a-48a7-83c2-f62e8db01f99', 'a0dc41c9-8026-4382-9f5c-5b4075ab90e8', 'bfb5f656-4440-4561-bb49-e2136b9b7803']\n"
     ]
    },
    {
     "data": {
      "text/html": [
       "<div>\n",
       "<style scoped>\n",
       "    .dataframe tbody tr th:only-of-type {\n",
       "        vertical-align: middle;\n",
       "    }\n",
       "\n",
       "    .dataframe tbody tr th {\n",
       "        vertical-align: top;\n",
       "    }\n",
       "\n",
       "    .dataframe thead th {\n",
       "        text-align: right;\n",
       "    }\n",
       "</style>\n",
       "<table border=\"1\" class=\"dataframe\">\n",
       "  <thead>\n",
       "    <tr style=\"text-align: right;\">\n",
       "      <th></th>\n",
       "      <th>creation</th>\n",
       "      <th>suppression</th>\n",
       "      <th>date</th>\n",
       "      <th>id</th>\n",
       "      <th>type</th>\n",
       "      <th>creationObj</th>\n",
       "      <th>suppressionObj</th>\n",
       "      <th>is_create</th>\n",
       "      <th>is_supp</th>\n",
       "    </tr>\n",
       "  </thead>\n",
       "  <tbody>\n",
       "    <tr>\n",
       "      <th>4469</th>\n",
       "      <td>[4c09a74f-4b9d-4c2c-9e03-5574c979aa97, 0ce410a...</td>\n",
       "      <td>[]</td>\n",
       "      <td>1943-01-01</td>\n",
       "      <td>904dcf14-b895-4686-a5c5-7304c6f63cae</td>\n",
       "      <td>evenement</td>\n",
       "      <td>[{'codeInsee': '32019', 'nom': 'Auterive', 'no...</td>\n",
       "      <td>[]</td>\n",
       "      <td>True</td>\n",
       "      <td>NaN</td>\n",
       "    </tr>\n",
       "    <tr>\n",
       "      <th>563</th>\n",
       "      <td>[d171728d-5c4a-48a7-83c2-f62e8db01f99, bfb5f65...</td>\n",
       "      <td>[a1ee0f67-b657-418d-822b-7eaab68a89eb, 826d072...</td>\n",
       "      <td>2016-01-01</td>\n",
       "      <td>40ae74a8-6433-4dfa-a388-c98b629954d5</td>\n",
       "      <td>evenement</td>\n",
       "      <td>[{'codeInsee': '27032', 'nom': 'Chambois', 'no...</td>\n",
       "      <td>[{'codeInsee': '27634', 'nom': 'Thomer-la-Sôgn...</td>\n",
       "      <td>True</td>\n",
       "      <td>NaN</td>\n",
       "    </tr>\n",
       "    <tr>\n",
       "      <th>5060</th>\n",
       "      <td>[]</td>\n",
       "      <td>[bfb5f656-4440-4561-bb49-e2136b9b7803, 9bd0400...</td>\n",
       "      <td>2020-12-31</td>\n",
       "      <td>4d54af6e-0a1a-4b4f-970b-3aa95d51e21e</td>\n",
       "      <td>evenement</td>\n",
       "      <td>[]</td>\n",
       "      <td>[{'codeInsee': '27032', 'nom': 'Avrilly', 'nom...</td>\n",
       "      <td>False</td>\n",
       "      <td>True</td>\n",
       "    </tr>\n",
       "  </tbody>\n",
       "</table>\n",
       "</div>"
      ],
      "text/plain": [
       "                                               creation  \\\n",
       "4469  [4c09a74f-4b9d-4c2c-9e03-5574c979aa97, 0ce410a...   \n",
       "563   [d171728d-5c4a-48a7-83c2-f62e8db01f99, bfb5f65...   \n",
       "5060                                                 []   \n",
       "\n",
       "                                            suppression        date  \\\n",
       "4469                                                 []  1943-01-01   \n",
       "563   [a1ee0f67-b657-418d-822b-7eaab68a89eb, 826d072...  2016-01-01   \n",
       "5060  [bfb5f656-4440-4561-bb49-e2136b9b7803, 9bd0400...  2020-12-31   \n",
       "\n",
       "                                        id       type  \\\n",
       "4469  904dcf14-b895-4686-a5c5-7304c6f63cae  evenement   \n",
       "563   40ae74a8-6433-4dfa-a388-c98b629954d5  evenement   \n",
       "5060  4d54af6e-0a1a-4b4f-970b-3aa95d51e21e  evenement   \n",
       "\n",
       "                                            creationObj  \\\n",
       "4469  [{'codeInsee': '32019', 'nom': 'Auterive', 'no...   \n",
       "563   [{'codeInsee': '27032', 'nom': 'Chambois', 'no...   \n",
       "5060                                                 []   \n",
       "\n",
       "                                         suppressionObj  is_create is_supp  \n",
       "4469                                                 []       True     NaN  \n",
       "563   [{'codeInsee': '27634', 'nom': 'Thomer-la-Sôgn...       True     NaN  \n",
       "5060  [{'codeInsee': '27032', 'nom': 'Avrilly', 'nom...      False    True  "
      ]
     },
     "execution_count": 78,
     "metadata": {},
     "output_type": "execute_result"
    }
   ],
   "source": [
    "getEvtByCodeInsee('27032')"
   ]
  },
  {
   "cell_type": "code",
   "execution_count": 79,
   "metadata": {},
   "outputs": [
    {
     "name": "stdout",
     "output_type": "stream",
     "text": [
      "['44168da9-25d9-4dc0-afdc-46b68c6e32a9', '7b036817-1be0-4b7a-9c47-7dfeb0486f5c']\n"
     ]
    },
    {
     "data": {
      "text/html": [
       "<div>\n",
       "<style scoped>\n",
       "    .dataframe tbody tr th:only-of-type {\n",
       "        vertical-align: middle;\n",
       "    }\n",
       "\n",
       "    .dataframe tbody tr th {\n",
       "        vertical-align: top;\n",
       "    }\n",
       "\n",
       "    .dataframe thead th {\n",
       "        text-align: right;\n",
       "    }\n",
       "</style>\n",
       "<table border=\"1\" class=\"dataframe\">\n",
       "  <thead>\n",
       "    <tr style=\"text-align: right;\">\n",
       "      <th></th>\n",
       "      <th>creation</th>\n",
       "      <th>suppression</th>\n",
       "      <th>date</th>\n",
       "      <th>id</th>\n",
       "      <th>type</th>\n",
       "      <th>creationObj</th>\n",
       "      <th>suppressionObj</th>\n",
       "      <th>is_create</th>\n",
       "      <th>is_supp</th>\n",
       "    </tr>\n",
       "  </thead>\n",
       "  <tbody>\n",
       "    <tr>\n",
       "      <th>4469</th>\n",
       "      <td>[4c09a74f-4b9d-4c2c-9e03-5574c979aa97, 0ce410a...</td>\n",
       "      <td>[]</td>\n",
       "      <td>1943-01-01</td>\n",
       "      <td>904dcf14-b895-4686-a5c5-7304c6f63cae</td>\n",
       "      <td>evenement</td>\n",
       "      <td>[{'codeInsee': '32019', 'nom': 'Auterive', 'no...</td>\n",
       "      <td>[]</td>\n",
       "      <td>True</td>\n",
       "      <td>False</td>\n",
       "    </tr>\n",
       "    <tr>\n",
       "      <th>48</th>\n",
       "      <td>[0376f0f2-9924-41e6-aaee-43542abdda70, 7b03681...</td>\n",
       "      <td>[44168da9-25d9-4dc0-afdc-46b68c6e32a9, 1a7ae1d...</td>\n",
       "      <td>2019-02-28</td>\n",
       "      <td>ff7e44ab-9e34-4152-8008-fdc8b6b34614</td>\n",
       "      <td>evenement</td>\n",
       "      <td>[{'codeInsee': '21183', 'nom': 'Collonges-et-P...</td>\n",
       "      <td>[{'codeInsee': '21183', 'nom': 'Collonges-lès-...</td>\n",
       "      <td>True</td>\n",
       "      <td>False</td>\n",
       "    </tr>\n",
       "  </tbody>\n",
       "</table>\n",
       "</div>"
      ],
      "text/plain": [
       "                                               creation  \\\n",
       "4469  [4c09a74f-4b9d-4c2c-9e03-5574c979aa97, 0ce410a...   \n",
       "48    [0376f0f2-9924-41e6-aaee-43542abdda70, 7b03681...   \n",
       "\n",
       "                                            suppression        date  \\\n",
       "4469                                                 []  1943-01-01   \n",
       "48    [44168da9-25d9-4dc0-afdc-46b68c6e32a9, 1a7ae1d...  2019-02-28   \n",
       "\n",
       "                                        id       type  \\\n",
       "4469  904dcf14-b895-4686-a5c5-7304c6f63cae  evenement   \n",
       "48    ff7e44ab-9e34-4152-8008-fdc8b6b34614  evenement   \n",
       "\n",
       "                                            creationObj  \\\n",
       "4469  [{'codeInsee': '32019', 'nom': 'Auterive', 'no...   \n",
       "48    [{'codeInsee': '21183', 'nom': 'Collonges-et-P...   \n",
       "\n",
       "                                         suppressionObj  is_create  is_supp  \n",
       "4469                                                 []       True    False  \n",
       "48    [{'codeInsee': '21183', 'nom': 'Collonges-lès-...       True    False  "
      ]
     },
     "execution_count": 79,
     "metadata": {},
     "output_type": "execute_result"
    }
   ],
   "source": [
    "getEvtByNom('Collonges-lès-Premières')"
   ]
  },
  {
   "cell_type": "markdown",
   "metadata": {},
   "source": [
    "Analyse nombre création / suppression par événement"
   ]
  },
  {
   "cell_type": "code",
   "execution_count": 80,
   "metadata": {},
   "outputs": [],
   "source": [
    "dfevt['nb_creation'] = dfevt['creation'].apply(lambda x: len(x))\n",
    "dfevt['nb_suppression'] = dfevt['suppression'].apply(lambda x: len(x))"
   ]
  },
  {
   "cell_type": "markdown",
   "metadata": {},
   "source": [
    "Combien d'événement ont concerné plus d'une commune en création et plus d'une commune en suppression :"
   ]
  },
  {
   "cell_type": "code",
   "execution_count": 81,
   "metadata": {},
   "outputs": [
    {
     "data": {
      "text/plain": [
       "(5086, 11)"
      ]
     },
     "execution_count": 81,
     "metadata": {},
     "output_type": "execute_result"
    }
   ],
   "source": [
    "dfevt.shape"
   ]
  },
  {
   "cell_type": "code",
   "execution_count": 82,
   "metadata": {},
   "outputs": [
    {
     "data": {
      "text/plain": [
       "1798"
      ]
     },
     "execution_count": 82,
     "metadata": {},
     "output_type": "execute_result"
    }
   ],
   "source": [
    "dfevt[(dfevt['nb_creation'] > 1) & (dfevt['nb_suppression'] > 1)].shape[0]"
   ]
  },
  {
   "cell_type": "code",
   "execution_count": 83,
   "metadata": {},
   "outputs": [
    {
     "data": {
      "text/plain": [
       "1        3104\n",
       "2         832\n",
       "3         591\n",
       "4         229\n",
       "5          93\n",
       "0          90\n",
       "6          43\n",
       "7          27\n",
       "8          25\n",
       "10         10\n",
       "9           7\n",
       "11          7\n",
       "15          6\n",
       "12          4\n",
       "16          3\n",
       "14          2\n",
       "19          2\n",
       "343         1\n",
       "2467        1\n",
       "306         1\n",
       "27          1\n",
       "38125       1\n",
       "94          1\n",
       "17          1\n",
       "20          1\n",
       "23          1\n",
       "21          1\n",
       "699         1\n",
       "Name: nb_creation, dtype: int64"
      ]
     },
     "execution_count": 83,
     "metadata": {},
     "output_type": "execute_result"
    }
   ],
   "source": [
    "dfevt.nb_creation.value_counts()"
   ]
  },
  {
   "cell_type": "code",
   "execution_count": 84,
   "metadata": {},
   "outputs": [
    {
     "data": {
      "text/plain": [
       "1     2383\n",
       "2     1833\n",
       "3      454\n",
       "4      188\n",
       "5       69\n",
       "6       44\n",
       "0       39\n",
       "7       21\n",
       "8       14\n",
       "9       11\n",
       "10      11\n",
       "14       5\n",
       "22       2\n",
       "11       2\n",
       "17       2\n",
       "15       2\n",
       "12       2\n",
       "21       1\n",
       "19       1\n",
       "18       1\n",
       "16       1\n",
       "Name: nb_suppression, dtype: int64"
      ]
     },
     "execution_count": 84,
     "metadata": {},
     "output_type": "execute_result"
    }
   ],
   "source": [
    "dfevt.nb_suppression.value_counts()"
   ]
  },
  {
   "cell_type": "markdown",
   "metadata": {},
   "source": [
    "Combien d'événement ont impliqués plus de communes créées que de communes supprimées (tout type de commune confondu) :"
   ]
  },
  {
   "cell_type": "code",
   "execution_count": 85,
   "metadata": {},
   "outputs": [
    {
     "data": {
      "text/plain": [
       "657"
      ]
     },
     "execution_count": 85,
     "metadata": {},
     "output_type": "execute_result"
    }
   ],
   "source": [
    "dfevt[(dfevt['nb_creation'] > 1) & (dfevt['nb_suppression'] > 1) & (dfevt['nb_creation'] >= dfevt['nb_suppression']+1)].shape[0]"
   ]
  },
  {
   "cell_type": "markdown",
   "metadata": {},
   "source": [
    "On à toujours au max qu'une seule création en plus que de suppression :"
   ]
  },
  {
   "cell_type": "code",
   "execution_count": 86,
   "metadata": {},
   "outputs": [
    {
     "data": {
      "text/plain": [
       "0"
      ]
     },
     "execution_count": 86,
     "metadata": {},
     "output_type": "execute_result"
    }
   ],
   "source": [
    "dfevt[(dfevt['nb_creation'] > 1) & (dfevt['nb_suppression'] > 1) & (dfevt['nb_creation'] >= dfevt['nb_suppression']+2)].shape[0]"
   ]
  },
  {
   "cell_type": "markdown",
   "metadata": {},
   "source": [
    "On va rechercher les événements qui ont créé plus de commune COM que de suppression de COM :\n",
    "=> si il en existe, cela veut dire qu'on ne peut pas garantir l'intégrité territoriale dans le temps sur certaines communes"
   ]
  },
  {
   "cell_type": "code",
   "execution_count": 87,
   "metadata": {},
   "outputs": [],
   "source": [
    "dftest = dfevt[(dfevt['nb_creation'] > 1) & (dfevt['nb_suppression'] > 1) & (dfevt['nb_creation'] >= dfevt['nb_suppression']+1)]"
   ]
  },
  {
   "cell_type": "code",
   "execution_count": 88,
   "metadata": {},
   "outputs": [
    {
     "name": "stdout",
     "output_type": "stream",
     "text": [
      "---------\n",
      "Evenement 637f4e23-fb2d-4f95-8bd6-36c78c699b3b : \n",
      "Suppression : 3 communes, 0 communes déléguées, 0 communes associées\n",
      "Creation : 4 communes, 0 communes déléguées, 0 communes associées\n",
      "---------\n",
      "Evenement 38377343-88a6-458b-8142-162370e38638 : \n",
      "Suppression : 2 communes, 0 communes déléguées, 0 communes associées\n",
      "Creation : 3 communes, 0 communes déléguées, 0 communes associées\n",
      "---------\n",
      "Evenement 2c4e2074-25ce-40a1-b7d3-39e28a238982 : \n",
      "Suppression : 4 communes, 0 communes déléguées, 0 communes associées\n",
      "Creation : 5 communes, 0 communes déléguées, 0 communes associées\n",
      "---------\n",
      "Evenement 662cfa72-c4e3-49d1-94bb-7ee067c3a726 : \n",
      "Suppression : 8 communes, 0 communes déléguées, 0 communes associées\n",
      "Creation : 9 communes, 0 communes déléguées, 0 communes associées\n",
      "---------\n",
      "Evenement 2cc22e41-441b-4897-ad76-22fc1cd17415 : \n",
      "Suppression : 2 communes, 0 communes déléguées, 0 communes associées\n",
      "Creation : 3 communes, 0 communes déléguées, 0 communes associées\n",
      "---------\n",
      "Evenement dff908d5-1c97-494e-8a67-97745f02fb84 : \n",
      "Suppression : 2 communes, 0 communes déléguées, 0 communes associées\n",
      "Creation : 3 communes, 0 communes déléguées, 0 communes associées\n"
     ]
    }
   ],
   "source": [
    "arr = []\n",
    "for index, row in dftest.iterrows():\n",
    "    nb_com_in = 0\n",
    "    nb_coma_in = 0\n",
    "    nb_comd_in = 0\n",
    "    nb_com_out = 0\n",
    "    nb_coma_out = 0\n",
    "    nb_comd_out = 0\n",
    "    for com in row['creationObj']:\n",
    "        if(com['type'] == 'COM'):\n",
    "            nb_com_out = nb_com_out + 1\n",
    "        if(com['type'] == 'COMD'):\n",
    "            nb_comd_out = nb_comd_out + 1\n",
    "        if(com['type'] == 'COMA'):\n",
    "            nb_coma_out = nb_coma_out + 1\n",
    "    for com in row['suppressionObj']:\n",
    "        if(com['type'] == 'COM'):\n",
    "            nb_com_in = nb_com_in + 1\n",
    "        if(com['type'] == 'COMD'):\n",
    "            nb_comd_in = nb_comd_in + 1\n",
    "        if(com['type'] == 'COMA'):\n",
    "            nb_coma_in = nb_coma_in + 1\n",
    "    if(nb_com_out > 1):\n",
    "        arr.append(row)\n",
    "        print('---------')\n",
    "        print('Evenement '+row['id']+' : ')\n",
    "        print('Suppression : '+str(nb_com_in)+' communes, '+str(nb_comd_in)+' communes déléguées, '+str(nb_coma_in)+' communes associées')\n",
    "        print('Creation : '+str(nb_com_out)+' communes, '+str(nb_comd_out)+' communes déléguées, '+str(nb_coma_out)+' communes associées')\n",
    "\n",
    "dfout = pd.DataFrame(arr)"
   ]
  },
  {
   "cell_type": "code",
   "execution_count": 89,
   "metadata": {},
   "outputs": [
    {
     "name": "stdout",
     "output_type": "stream",
     "text": [
      "-------\n",
      "Vaulnaveys-le-Haut (38529 - COM) ; Séchilienne (38478 - COM) ; Saint-Martin-d'Uriage (38422 - COM) ; \n",
      "deviennent\n",
      "Chamrousse (38567 - COM) ; Vaulnaveys-le-Haut (38529 - COM) ; Séchilienne (38478 - COM) ; Saint-Martin-d'Uriage (38422 - COM) ; \n",
      "-------\n",
      "Bures-sur-Yvette (91122 - COM) ; Orsay (91471 - COM) ; \n",
      "deviennent\n",
      "Bures-sur-Yvette (91122 - COM) ; Les Ulis (91692 - COM) ; Orsay (91471 - COM) ; \n",
      "-------\n",
      "Saint-Jean-Lespinasse (46271 - COM) ; Saint-Vincent-du-Pendit (46295 - COM) ; Saint-Médard-de-Presque (46281 - COM) ; Saint-Céré (46251 - COM) ; \n",
      "deviennent\n",
      "Saint-Médard-de-Presque (46281 - COM) ; Saint-Vincent-du-Pendit (46295 - COM) ; Saint-Jean-Lespinasse (46271 - COM) ; Saint-Jean-Lagineste (46339 - COM) ; Saint-Céré (46251 - COM) ; \n",
      "-------\n",
      "Porte-Joie (27471 - COM) ; Poses (27474 - COM) ; Tournedos-sur-Seine (27651 - COM) ; Léry (27365 - COM) ; Saint-Pierre-du-Vauvray (27598 - COM) ; Incarville (27351 - COM) ; Saint-Étienne-du-Vauvray (27537 - COM) ; Le Vaudreuil (27528 - COM) ; \n",
      "deviennent\n",
      "Tournedos-sur-Seine (27651 - COM) ; Porte-Joie (27471 - COM) ; Le Vaudreuil (27528 - COM) ; Léry (27365 - COM) ; Vaudreuil-Ex-Ensemble Urbain (27701 - COM) ; Saint-Pierre-du-Vauvray (27598 - COM) ; Poses (27474 - COM) ; Incarville (27351 - COM) ; Saint-Étienne-du-Vauvray (27537 - COM) ; \n",
      "-------\n",
      "Saint-Ségal (29263 - COM) ; Quimerch (29231 - COM) ; \n",
      "deviennent\n",
      "Saint-Ségal (29263 - COM) ; Quimerch (29231 - COM) ; Pont-de-Buis (29302 - COM) ; \n",
      "-------\n",
      "Fameck (57206 - COM) ; Ranguevaux (57562 - COM) ; \n",
      "deviennent\n",
      "Ranguevaux (57562 - COM) ; Saint-Nicolas-en-Forêt (57766 - COM) ; Fameck (57206 - COM) ; \n"
     ]
    }
   ],
   "source": [
    "for index, row in dfout.iterrows():\n",
    "    print('-------')\n",
    "    mystr = ''\n",
    "    for com in row['suppressionObj']:\n",
    "        mystr = mystr+com['nom']+' ('+com['codeInsee']+' - '+com['type']+') ; '\n",
    "    \n",
    "    mystr = mystr + '\\ndeviennent\\n'\n",
    "                                          \n",
    "    for com in row['creationObj']:\n",
    "        mystr = mystr+com['nom']+' ('+com['codeInsee']+' - '+com['type']+') ; '\n",
    "    print(mystr)"
   ]
  },
  {
   "cell_type": "code",
   "execution_count": null,
   "metadata": {},
   "outputs": [],
   "source": []
  },
  {
   "cell_type": "code",
   "execution_count": 90,
   "metadata": {},
   "outputs": [],
   "source": [
    "arr = []\n",
    "for index, row in dftest.iterrows():\n",
    "    nb_com_in = 0\n",
    "    nb_coma_in = 0\n",
    "    nb_comd_in = 0\n",
    "    nb_com_out = 0\n",
    "    nb_coma_out = 0\n",
    "    nb_comd_out = 0\n",
    "    for com in row['creationObj']:\n",
    "        if(com['type'] == 'COM'):\n",
    "            nb_com_out = nb_com_out + 1\n",
    "        if(com['type'] == 'COMD'):\n",
    "            nb_comd_out = nb_comd_out + 1\n",
    "        if(com['type'] == 'COMA'):\n",
    "            nb_coma_out = nb_coma_out + 1\n",
    "    for com in row['suppressionObj']:\n",
    "        if(com['type'] == 'COM'):\n",
    "            nb_com_in = nb_com_in + 1\n",
    "        if(com['type'] == 'COMD'):\n",
    "            nb_comd_in = nb_comd_in + 1\n",
    "        if(com['type'] == 'COMA'):\n",
    "            nb_coma_in = nb_coma_in + 1\n",
    "    if(nb_coma_out > 1):\n",
    "        arr.append(row)\n",
    "        print('---------')\n",
    "        print('Evenement '+row['id']+' : ')\n",
    "        print('Suppression : '+str(nb_com_in)+' communes, '+str(nb_comd_in)+' communes déléguées, '+str(nb_coma_in)+' communes associées')\n",
    "        print('Creation : '+str(nb_com_out)+' communes, '+str(nb_comd_out)+' communes déléguées, '+str(nb_coma_out)+' communes associées')\n",
    "\n",
    "dfout = pd.DataFrame(arr)"
   ]
  },
  {
   "cell_type": "code",
   "execution_count": 91,
   "metadata": {},
   "outputs": [],
   "source": [
    "for index, row in dfout.iterrows():\n",
    "    print('-------')\n",
    "    mystr = ''\n",
    "    for com in row['suppressionObj']:\n",
    "        mystr = mystr+com['nom']+' ('+com['codeInsee']+' - '+com['type']+') ; '\n",
    "    \n",
    "    mystr = mystr + '\\ndeviennent\\n'\n",
    "                                          \n",
    "    for com in row['creationObj']:\n",
    "        mystr = mystr+com['nom']+' ('+com['codeInsee']+' - '+com['type']+') ; '\n",
    "    print(mystr)"
   ]
  },
  {
   "cell_type": "code",
   "execution_count": null,
   "metadata": {},
   "outputs": [],
   "source": []
  },
  {
   "cell_type": "code",
   "execution_count": null,
   "metadata": {},
   "outputs": [],
   "source": []
  },
  {
   "cell_type": "markdown",
   "metadata": {},
   "source": [
    "Evenement qui ont créé plus de 2 communes COM"
   ]
  },
  {
   "cell_type": "code",
   "execution_count": 92,
   "metadata": {},
   "outputs": [],
   "source": [
    "arr = []\n",
    "for index, row in dfevt.iterrows():\n",
    "    nb_com = 0\n",
    "    for com in row['creationObj']:\n",
    "        if(com['type'] == 'COM'):\n",
    "            nb_com = nb_com + 1\n",
    "    if(nb_com > 1):\n",
    "        arr.append(row)\n",
    "dfout = pd.DataFrame(arr)"
   ]
  },
  {
   "cell_type": "code",
   "execution_count": 93,
   "metadata": {},
   "outputs": [
    {
     "data": {
      "text/plain": [
       "274"
      ]
     },
     "execution_count": 93,
     "metadata": {},
     "output_type": "execute_result"
    }
   ],
   "source": [
    "dfout.shape[0]"
   ]
  },
  {
   "cell_type": "code",
   "execution_count": 94,
   "metadata": {
    "scrolled": false
   },
   "outputs": [],
   "source": [
    "for index, row in dfout.iterrows():\n",
    "    comcreate = [x['nomSansArticle'] for x in row['creationObj']]\n",
    "    comsupp = [x['nomSansArticle'] for x in row['suppressionObj']]\n",
    "\n",
    "    #print(comcreate)\n",
    "    #print(comsupp)\n",
    "    #print('---')\n"
   ]
  },
  {
   "cell_type": "code",
   "execution_count": null,
   "metadata": {},
   "outputs": [],
   "source": []
  },
  {
   "cell_type": "code",
   "execution_count": null,
   "metadata": {},
   "outputs": [],
   "source": []
  },
  {
   "cell_type": "code",
   "execution_count": 95,
   "metadata": {},
   "outputs": [],
   "source": [
    "df = dfevt.sort_values(by=['date'])\n",
    "df = df[~((df['creationObj'].str.len() == 0) & (df['suppressionObj'].str.len() == 0))]"
   ]
  },
  {
   "cell_type": "code",
   "execution_count": 96,
   "metadata": {},
   "outputs": [
    {
     "data": {
      "text/html": [
       "<div>\n",
       "<style scoped>\n",
       "    .dataframe tbody tr th:only-of-type {\n",
       "        vertical-align: middle;\n",
       "    }\n",
       "\n",
       "    .dataframe tbody tr th {\n",
       "        vertical-align: top;\n",
       "    }\n",
       "\n",
       "    .dataframe thead th {\n",
       "        text-align: right;\n",
       "    }\n",
       "</style>\n",
       "<table border=\"1\" class=\"dataframe\">\n",
       "  <thead>\n",
       "    <tr style=\"text-align: right;\">\n",
       "      <th></th>\n",
       "      <th>creation</th>\n",
       "      <th>suppression</th>\n",
       "      <th>date</th>\n",
       "      <th>id</th>\n",
       "      <th>type</th>\n",
       "      <th>creationObj</th>\n",
       "      <th>suppressionObj</th>\n",
       "      <th>is_create</th>\n",
       "      <th>is_supp</th>\n",
       "      <th>nb_creation</th>\n",
       "      <th>nb_suppression</th>\n",
       "    </tr>\n",
       "  </thead>\n",
       "  <tbody>\n",
       "    <tr>\n",
       "      <th>2549</th>\n",
       "      <td>[3d13fae4-16d2-4e96-bd91-fbaeb688dd3c]</td>\n",
       "      <td>[bc622910-0e35-4b04-aab8-30d3ecf6d013, def17c4...</td>\n",
       "      <td>1942-08-01</td>\n",
       "      <td>2ffc80b6-b246-4d33-b6a9-46b711fe5de0</td>\n",
       "      <td>evenement</td>\n",
       "      <td>[{'codeInsee': '01185', 'nom': 'Hauteville-Lom...</td>\n",
       "      <td>[{'codeInsee': '01220', 'nom': 'Lompnes', 'nom...</td>\n",
       "      <td>False</td>\n",
       "      <td>False</td>\n",
       "      <td>1</td>\n",
       "      <td>2</td>\n",
       "    </tr>\n",
       "    <tr>\n",
       "      <th>3158</th>\n",
       "      <td>[cbdb7b26-3259-4ac1-b302-1bc10a4711a6]</td>\n",
       "      <td>[76c37d0f-88fd-47b3-9674-000b0e667910, 9fb6ef3...</td>\n",
       "      <td>1942-10-01</td>\n",
       "      <td>6ac12379-99f0-43c6-afe7-83aa0ed22f4b</td>\n",
       "      <td>evenement</td>\n",
       "      <td>[{'codeInsee': '54518', 'nom': 'Thiaucourt', '...</td>\n",
       "      <td>[{'codeInsee': '54448', 'nom': 'Regniéville', ...</td>\n",
       "      <td>False</td>\n",
       "      <td>False</td>\n",
       "      <td>1</td>\n",
       "      <td>2</td>\n",
       "    </tr>\n",
       "    <tr>\n",
       "      <th>2827</th>\n",
       "      <td>[6d3b1c48-cd95-4f57-ab97-9241d2da5e17]</td>\n",
       "      <td>[d50ff06d-77a1-42e9-bde5-b2a612b89919, 4aa381a...</td>\n",
       "      <td>1942-10-01</td>\n",
       "      <td>5dd8818d-0eb5-4326-866d-99076e689233</td>\n",
       "      <td>evenement</td>\n",
       "      <td>[{'codeInsee': '54316', 'nom': 'Limey', 'nomSa...</td>\n",
       "      <td>[{'codeInsee': '54454', 'nom': 'Remenauville',...</td>\n",
       "      <td>False</td>\n",
       "      <td>False</td>\n",
       "      <td>1</td>\n",
       "      <td>2</td>\n",
       "    </tr>\n",
       "    <tr>\n",
       "      <th>3027</th>\n",
       "      <td>[8fcf9222-0527-4733-b33f-e8c7735adc07]</td>\n",
       "      <td>[2830f25b-ab37-48f3-8afb-6f20075c613f, cf2860c...</td>\n",
       "      <td>1942-11-01</td>\n",
       "      <td>065710af-e6d6-4a3d-83d4-b2ce7bbd7b0d</td>\n",
       "      <td>evenement</td>\n",
       "      <td>[{'codeInsee': '66003', 'nom': 'Amélie-les-Bai...</td>\n",
       "      <td>[{'codeInsee': '66003', 'nom': 'Amélie-les-Bai...</td>\n",
       "      <td>False</td>\n",
       "      <td>False</td>\n",
       "      <td>1</td>\n",
       "      <td>2</td>\n",
       "    </tr>\n",
       "    <tr>\n",
       "      <th>4469</th>\n",
       "      <td>[4c09a74f-4b9d-4c2c-9e03-5574c979aa97, 0ce410a...</td>\n",
       "      <td>[]</td>\n",
       "      <td>1943-01-01</td>\n",
       "      <td>904dcf14-b895-4686-a5c5-7304c6f63cae</td>\n",
       "      <td>evenement</td>\n",
       "      <td>[{'codeInsee': '32019', 'nom': 'Auterive', 'no...</td>\n",
       "      <td>[]</td>\n",
       "      <td>True</td>\n",
       "      <td>False</td>\n",
       "      <td>38125</td>\n",
       "      <td>0</td>\n",
       "    </tr>\n",
       "  </tbody>\n",
       "</table>\n",
       "</div>"
      ],
      "text/plain": [
       "                                               creation  \\\n",
       "2549             [3d13fae4-16d2-4e96-bd91-fbaeb688dd3c]   \n",
       "3158             [cbdb7b26-3259-4ac1-b302-1bc10a4711a6]   \n",
       "2827             [6d3b1c48-cd95-4f57-ab97-9241d2da5e17]   \n",
       "3027             [8fcf9222-0527-4733-b33f-e8c7735adc07]   \n",
       "4469  [4c09a74f-4b9d-4c2c-9e03-5574c979aa97, 0ce410a...   \n",
       "\n",
       "                                            suppression        date  \\\n",
       "2549  [bc622910-0e35-4b04-aab8-30d3ecf6d013, def17c4...  1942-08-01   \n",
       "3158  [76c37d0f-88fd-47b3-9674-000b0e667910, 9fb6ef3...  1942-10-01   \n",
       "2827  [d50ff06d-77a1-42e9-bde5-b2a612b89919, 4aa381a...  1942-10-01   \n",
       "3027  [2830f25b-ab37-48f3-8afb-6f20075c613f, cf2860c...  1942-11-01   \n",
       "4469                                                 []  1943-01-01   \n",
       "\n",
       "                                        id       type  \\\n",
       "2549  2ffc80b6-b246-4d33-b6a9-46b711fe5de0  evenement   \n",
       "3158  6ac12379-99f0-43c6-afe7-83aa0ed22f4b  evenement   \n",
       "2827  5dd8818d-0eb5-4326-866d-99076e689233  evenement   \n",
       "3027  065710af-e6d6-4a3d-83d4-b2ce7bbd7b0d  evenement   \n",
       "4469  904dcf14-b895-4686-a5c5-7304c6f63cae  evenement   \n",
       "\n",
       "                                            creationObj  \\\n",
       "2549  [{'codeInsee': '01185', 'nom': 'Hauteville-Lom...   \n",
       "3158  [{'codeInsee': '54518', 'nom': 'Thiaucourt', '...   \n",
       "2827  [{'codeInsee': '54316', 'nom': 'Limey', 'nomSa...   \n",
       "3027  [{'codeInsee': '66003', 'nom': 'Amélie-les-Bai...   \n",
       "4469  [{'codeInsee': '32019', 'nom': 'Auterive', 'no...   \n",
       "\n",
       "                                         suppressionObj  is_create  is_supp  \\\n",
       "2549  [{'codeInsee': '01220', 'nom': 'Lompnes', 'nom...      False    False   \n",
       "3158  [{'codeInsee': '54448', 'nom': 'Regniéville', ...      False    False   \n",
       "2827  [{'codeInsee': '54454', 'nom': 'Remenauville',...      False    False   \n",
       "3027  [{'codeInsee': '66003', 'nom': 'Amélie-les-Bai...      False    False   \n",
       "4469                                                 []       True    False   \n",
       "\n",
       "      nb_creation  nb_suppression  \n",
       "2549            1               2  \n",
       "3158            1               2  \n",
       "2827            1               2  \n",
       "3027            1               2  \n",
       "4469        38125               0  "
      ]
     },
     "execution_count": 96,
     "metadata": {},
     "output_type": "execute_result"
    }
   ],
   "source": [
    "df.head()"
   ]
  },
  {
   "cell_type": "code",
   "execution_count": 97,
   "metadata": {},
   "outputs": [
    {
     "name": "stdout",
     "output_type": "stream",
     "text": [
      "0\n"
     ]
    }
   ],
   "source": [
    "arr = []\n",
    "cpt = 0\n",
    "for index, row in df.iterrows():\n",
    "    # 1 ou N création, 0 suppression\n",
    "    if((len(row['creationObj']) >= 1) & (len(row['suppressionObj']) == 0)):\n",
    "        for com in row['creationObj']:\n",
    "            mydict = {}\n",
    "            mydict['nom'] = com['nom']\n",
    "            mydict['type'] = com['type']\n",
    "            mydict['dateDebut'] = row['date']\n",
    "            mydict['code'] = com['codeInsee']\n",
    "            mydict['predecesseur'] = None\n",
    "            mydict['id'] = com['type'] + '-' + com['codeInsee'] + '@' + row['date']\n",
    "            mydict['idEvt'] = row['id']\n",
    "            arr.append(mydict)\n",
    "            \n",
    "    # 1 ou N création, 1 suppression\n",
    "    if((len(row['creationObj']) >= 1) & (len(row['suppressionObj']) == 1)):\n",
    "        for com in row['creationObj']:\n",
    "            mydict = {}\n",
    "            mydict['nom'] = com['nom']\n",
    "            mydict['type'] = com['type']\n",
    "            mydict['dateDebut'] = row['date']\n",
    "            mydict['code'] = com['codeInsee']\n",
    "            mydict['predecesseur'] = row['suppressionObj'][0]['type'] + '-' + row['suppressionObj'][0]['codeInsee'] + '@' + df[df['id'] == row['suppressionObj'][0]['evtCreation']].iloc[0]['date']\n",
    "            mydict['id'] = com['type'] + '-' + com['codeInsee'] + '@' + row['date']\n",
    "            mydict['idEvt'] = row['id']\n",
    "            arr.append(mydict)\n",
    "            \n",
    "    # N création, N suppression\n",
    "    if((len(row['creationObj']) >= 1) & (len(row['suppressionObj']) > 1)):\n",
    "        nbcom = 0\n",
    "        codecom = ''\n",
    "        datecom = ''\n",
    "        for com in row['suppressionObj']:\n",
    "            if(com['type'] == 'COM'):\n",
    "                nbcom += 1\n",
    "                codecom = com['codeInsee']\n",
    "                datecom = df[df['id'] == com['evtCreation']].iloc[0]['date']\n",
    "        if(nbcom > 1):\n",
    "            for com in row['creationObj']:\n",
    "                mydict = {}\n",
    "                mydict['nom'] = com['nom']\n",
    "                mydict['type'] = com['type']\n",
    "                mydict['dateDebut'] = row['date']\n",
    "                mydict['code'] = com['codeInsee']\n",
    "                codesInsee = []\n",
    "                for com2 in row['suppressionObj']:\n",
    "                    codesInsee.append(com2['codeInsee'])\n",
    "                codesInsee = list(dict.fromkeys(codesInsee))\n",
    "                mydict['predecesseur'] = 'COMT-' + '-'.join(codesInsee) + '@' + row['date']\n",
    "                mydict['id'] = com['type'] + '-' + com['codeInsee'] + '@' + row['date']\n",
    "                mydict['idEvt'] = row['id']\n",
    "                arr.append(mydict)\n",
    "        elif(nbcom == 1):\n",
    "            for com in row['creationObj']:\n",
    "                mydict = {}\n",
    "                mydict['nom'] = com['nom']\n",
    "                mydict['type'] = com['type']\n",
    "                mydict['dateDebut'] = row['date']\n",
    "                mydict['code'] = com['codeInsee']\n",
    "                mydict['predecesseur'] = 'COM-' + codecom + '@' + datecom\n",
    "                mydict['id'] = com['type'] + '-' + com['codeInsee'] + '@' + row['date']\n",
    "                mydict['idEvt'] = row['id']\n",
    "                arr.append(mydict)\n",
    "        else:\n",
    "            print('pb en perspective - 0 commune supprimée mais des comd et coma')\n",
    "\n",
    "    # 0 création, N suppression\n",
    "print(cpt)\n",
    "    \n",
    "    "
   ]
  },
  {
   "cell_type": "code",
   "execution_count": 98,
   "metadata": {},
   "outputs": [
    {
     "data": {
      "text/plain": [
       "46782"
      ]
     },
     "execution_count": 98,
     "metadata": {},
     "output_type": "execute_result"
    }
   ],
   "source": [
    "len(arr)"
   ]
  },
  {
   "cell_type": "code",
   "execution_count": 99,
   "metadata": {},
   "outputs": [],
   "source": [
    "toto = pd.DataFrame(arr)\n",
    "toto['successeur'] = ''"
   ]
  },
  {
   "cell_type": "code",
   "execution_count": 153,
   "metadata": {},
   "outputs": [
    {
     "name": "stdout",
     "output_type": "stream",
     "text": [
      "Pb intégrité base SPARQL - id Evt INSEE : 2ffc80b6-b246-4d33-b6a9-46b711fe5de0\n",
      "Pb intégrité base SPARQL - id Evt INSEE : 6ac12379-99f0-43c6-afe7-83aa0ed22f4b\n",
      "Pb intégrité base SPARQL - id Evt INSEE : 5dd8818d-0eb5-4326-866d-99076e689233\n",
      "Pb intégrité base SPARQL - id Evt INSEE : 065710af-e6d6-4a3d-83d4-b2ce7bbd7b0d\n",
      "200\n",
      "creation                     [002ffef9-dee5-47b3-8fd2-920176692b5b]\n",
      "suppression                  [6cb8d621-e597-48ba-a6eb-dbf0bf2141f6]\n",
      "date                                                     1968-01-01\n",
      "id                             8dba2b23-ea40-4cd8-b9cd-32eb19e4770b\n",
      "type                                                      evenement\n",
      "creationObj       [{'codeInsee': '91639', 'nom': 'Vayres-sur-Ess...\n",
      "suppressionObj    [{'codeInsee': '78639', 'nom': 'Vayres-sur-Ess...\n",
      "is_create                                                     False\n",
      "is_supp                                                       False\n",
      "nb_creation                                                       1\n",
      "nb_suppression                                                    1\n",
      "Name: 0, dtype: object\n",
      "1943-01-01\n",
      "400\n",
      "600\n",
      "800\n",
      "1000\n",
      "1200\n",
      "1400\n",
      "1600\n",
      "1800\n",
      "2000\n",
      "2200\n",
      "2400\n",
      "2457\n"
     ]
    }
   ],
   "source": [
    "arr = []\n",
    "cpt = 0\n",
    "for index, row in df.iterrows():\n",
    "    \n",
    "    # 1 ou N suppression, 0 création\n",
    "    if((len(row['suppressionObj']) >= 1) & (len(row['creationObj']) == 0)):\n",
    "        for com in row['suppressionObj']:\n",
    "            mydict = {}\n",
    "            mydict['nom'] = com['nom']\n",
    "            mydict['type'] = 'COMP'\n",
    "            mydict['dateDebut'] = row['date']\n",
    "            mydict['code'] = com['codeInsee']\n",
    "            mydict['predecesseur'] = com['type'] + '-' + com['codeInsee'] + '@' + toto[toto['idEvt'] == com['evtCreation']].iloc[0]['dateDebut']\n",
    "            mydict['id'] = 'COMP-' + com['codeInsee'] + '@' + row['date']\n",
    "            mydict['idEvt'] = row['id']\n",
    "            arr.append(mydict) \n",
    "            \n",
    "            mydate = toto[(toto['dateDebut'] <= row['date']) & (toto['id'].str.contains(com['type']+'-'+com['codeInsee']))].sort_values(by='dateDebut',ascending=False).iloc[0]['dateDebut']\n",
    "            toto.loc[(toto['id'] == com['type']+'-'+com['codeInsee']+'@'+mydate),'successeur'] = 'COMP-' + com['codeInsee'] + '@' + row['date']\n",
    "            \n",
    "            \n",
    "    # N suppression, N creation\n",
    "    if((len(row['suppressionObj']) > 1) & (len(row['creationObj']) >= 1)):\n",
    "        cpt = cpt + 1\n",
    "        if(cpt % 200 == 0):\n",
    "            print(cpt)\n",
    "        codesInsee = []\n",
    "        for com in row['suppressionObj']:\n",
    "            if(com['type'] == 'COM'):\n",
    "                codesInsee.append(com['codeInsee'])\n",
    "        codesInsee = list(dict.fromkeys(codesInsee))\n",
    "        mydict = {}\n",
    "        mydict['nom'] = 'Commune Transitoire'\n",
    "        mydict['type'] = 'COMT'\n",
    "        mydict['dateDebut'] = row['date']\n",
    "        mydict['code'] = '-'.join(codesInsee)\n",
    "        mydict['id'] = 'COMT-' + '-'.join(codesInsee) + '@' + row['date']\n",
    "        mydict['idEvt'] = row['id']\n",
    "        mydict['predecesseur'] = None\n",
    "        arr.append(mydict)\n",
    "        for com in row['suppressionObj']:\n",
    "            try:\n",
    "                mydate = toto[(toto['dateDebut'] <= row['date']) & (toto['id'].str.contains(com['type']+'-'+com['codeInsee']))].sort_values(by='dateDebut',ascending=False).iloc[0]['dateDebut']\n",
    "                toto.loc[(toto['id'] == com['type']+'-'+com['codeInsee']+'@'+mydate),'successeur'] = 'COMT-' + '-'.join(codesInsee) + '@' + row['date']\n",
    "            except:\n",
    "                print('Pb intégrité base SPARQL - id Evt INSEE : '+row['id'])\n",
    "    \n",
    "    if((len(row['suppressionObj']) == 1) & (len(row['creationObj']) == 1)):\n",
    "        mydate = toto[(toto['dateDebut'] <= row['date']) & (toto['id'].str.contains(row['suppressionObj'][0]['type']+'-'+row['suppressionObj'][0]['codeInsee']))].sort_values(by='dateDebut',ascending=False).iloc[0]['dateDebut']\n",
    "        toto.loc[(toto['id'] == row['suppressionObj'][0]['type']+'-'+row['suppressionObj'][0]['codeInsee']+'@'+mydate),'successeur'] = row['creationObj'][0]['type'] + '-' + row['creationObj'][0]['codeInsee'] + '@' + row['date']\n",
    "        \n",
    "    \n",
    "print(cpt)\n"
   ]
  },
  {
   "cell_type": "code",
   "execution_count": 154,
   "metadata": {},
   "outputs": [],
   "source": [
    "tutu = pd.DataFrame(arr)"
   ]
  },
  {
   "cell_type": "code",
   "execution_count": 155,
   "metadata": {},
   "outputs": [],
   "source": [
    "titi = pd.concat([toto,tutu])"
   ]
  },
  {
   "cell_type": "code",
   "execution_count": 156,
   "metadata": {},
   "outputs": [],
   "source": [
    "titi['successeur'] = titi['successeur'].apply(lambda x: None if x == '' else x)"
   ]
  },
  {
   "cell_type": "code",
   "execution_count": 157,
   "metadata": {},
   "outputs": [
    {
     "data": {
      "text/plain": [
       "(38660, 8)"
      ]
     },
     "execution_count": 157,
     "metadata": {},
     "output_type": "execute_result"
    }
   ],
   "source": [
    "titi[titi['successeur'].isna()].shape"
   ]
  },
  {
   "cell_type": "code",
   "execution_count": 158,
   "metadata": {},
   "outputs": [],
   "source": [
    "cog = pd.read_csv('commune2021.csv')"
   ]
  },
  {
   "cell_type": "code",
   "execution_count": 159,
   "metadata": {},
   "outputs": [
    {
     "data": {
      "text/html": [
       "<div>\n",
       "<style scoped>\n",
       "    .dataframe tbody tr th:only-of-type {\n",
       "        vertical-align: middle;\n",
       "    }\n",
       "\n",
       "    .dataframe tbody tr th {\n",
       "        vertical-align: top;\n",
       "    }\n",
       "\n",
       "    .dataframe thead th {\n",
       "        text-align: right;\n",
       "    }\n",
       "</style>\n",
       "<table border=\"1\" class=\"dataframe\">\n",
       "  <thead>\n",
       "    <tr style=\"text-align: right;\">\n",
       "      <th></th>\n",
       "      <th>nom</th>\n",
       "      <th>type</th>\n",
       "      <th>dateDebut</th>\n",
       "      <th>code</th>\n",
       "      <th>predecesseur</th>\n",
       "      <th>id</th>\n",
       "      <th>idEvt</th>\n",
       "      <th>successeur</th>\n",
       "    </tr>\n",
       "  </thead>\n",
       "  <tbody>\n",
       "    <tr>\n",
       "      <th>6</th>\n",
       "      <td>Vayres-sur-Essonne</td>\n",
       "      <td>COM</td>\n",
       "      <td>1943-01-01</td>\n",
       "      <td>78639</td>\n",
       "      <td>None</td>\n",
       "      <td>COM-78639@1943-01-01</td>\n",
       "      <td>904dcf14-b895-4686-a5c5-7304c6f63cae</td>\n",
       "      <td>COM-91639@1968-01-01</td>\n",
       "    </tr>\n",
       "    <tr>\n",
       "      <th>39690</th>\n",
       "      <td>Vayres-sur-Essonne</td>\n",
       "      <td>COM</td>\n",
       "      <td>1968-01-01</td>\n",
       "      <td>91639</td>\n",
       "      <td>COM-78639@1943-01-01</td>\n",
       "      <td>COM-91639@1968-01-01</td>\n",
       "      <td>8dba2b23-ea40-4cd8-b9cd-32eb19e4770b</td>\n",
       "      <td>None</td>\n",
       "    </tr>\n",
       "  </tbody>\n",
       "</table>\n",
       "</div>"
      ],
      "text/plain": [
       "                      nom type   dateDebut   code          predecesseur  \\\n",
       "6      Vayres-sur-Essonne  COM  1943-01-01  78639                  None   \n",
       "39690  Vayres-sur-Essonne  COM  1968-01-01  91639  COM-78639@1943-01-01   \n",
       "\n",
       "                         id                                 idEvt  \\\n",
       "6      COM-78639@1943-01-01  904dcf14-b895-4686-a5c5-7304c6f63cae   \n",
       "39690  COM-91639@1968-01-01  8dba2b23-ea40-4cd8-b9cd-32eb19e4770b   \n",
       "\n",
       "                 successeur  \n",
       "6      COM-91639@1968-01-01  \n",
       "39690                  None  "
      ]
     },
     "execution_count": 159,
     "metadata": {},
     "output_type": "execute_result"
    }
   ],
   "source": [
    "titi[titi['nom'] == 'Vayres-sur-Essonne']"
   ]
  },
  {
   "cell_type": "code",
   "execution_count": 161,
   "metadata": {},
   "outputs": [
    {
     "name": "stdout",
     "output_type": "stream",
     "text": [
      "nom                                         Monceaux\n",
      "type                                             COM\n",
      "dateDebut                                 1943-01-01\n",
      "code                                           61280\n",
      "predecesseur                                    None\n",
      "id                              COM-61280@1943-01-01\n",
      "idEvt           904dcf14-b895-4686-a5c5-7304c6f63cae\n",
      "successeur                                      None\n",
      "Name: 362, dtype: object\n",
      "nom                                     Saint-Martin\n",
      "type                                             COM\n",
      "dateDebut                                 1943-01-01\n",
      "code                                           52451\n",
      "predecesseur                                    None\n",
      "id                              COM-52451@1943-01-01\n",
      "idEvt           904dcf14-b895-4686-a5c5-7304c6f63cae\n",
      "successeur                                      None\n",
      "Name: 853, dtype: object\n",
      "nom                                           Aulhat\n",
      "type                                             COM\n",
      "dateDebut                                 1943-01-01\n",
      "code                                           63018\n",
      "predecesseur                                    None\n",
      "id                              COM-63018@1943-01-01\n",
      "idEvt           904dcf14-b895-4686-a5c5-7304c6f63cae\n",
      "successeur                                      None\n",
      "Name: 1783, dtype: object\n",
      "nom                                Goulier-et-Olbier\n",
      "type                                             COM\n",
      "dateDebut                                 1943-01-01\n",
      "code                                           09135\n",
      "predecesseur                                    None\n",
      "id                              COM-09135@1943-01-01\n",
      "idEvt           904dcf14-b895-4686-a5c5-7304c6f63cae\n",
      "successeur                                      None\n",
      "Name: 1832, dtype: object\n",
      "nom                                      Loc-Eguiner\n",
      "type                                             COM\n",
      "dateDebut                                 1943-01-01\n",
      "code                                           29127\n",
      "predecesseur                                    None\n",
      "id                              COM-29127@1943-01-01\n",
      "idEvt           904dcf14-b895-4686-a5c5-7304c6f63cae\n",
      "successeur                                      None\n",
      "Name: 2029, dtype: object\n",
      "nom                                       Grandchain\n",
      "type                                             COM\n",
      "dateDebut                                 1943-01-01\n",
      "code                                           27296\n",
      "predecesseur                                    None\n",
      "id                              COM-27296@1943-01-01\n",
      "idEvt           904dcf14-b895-4686-a5c5-7304c6f63cae\n",
      "successeur                                      None\n",
      "Name: 2098, dtype: object\n",
      "nom                                         Thorigny\n",
      "type                                             COM\n",
      "dateDebut                                 1943-01-01\n",
      "code                                           79328\n",
      "predecesseur                                    None\n",
      "id                              COM-79328@1943-01-01\n",
      "idEvt           904dcf14-b895-4686-a5c5-7304c6f63cae\n",
      "successeur                                      None\n",
      "Name: 2233, dtype: object\n",
      "nom                                       Gironville\n",
      "type                                             COM\n",
      "dateDebut                                 1943-01-01\n",
      "code                                           78273\n",
      "predecesseur                                    None\n",
      "id                              COM-78273@1943-01-01\n",
      "idEvt           904dcf14-b895-4686-a5c5-7304c6f63cae\n",
      "successeur                                      None\n",
      "Name: 2243, dtype: object\n",
      "nom                                            Milly\n",
      "type                                             COM\n",
      "dateDebut                                 1943-01-01\n",
      "code                                           78405\n",
      "predecesseur                                    None\n",
      "id                              COM-78405@1943-01-01\n",
      "idEvt           904dcf14-b895-4686-a5c5-7304c6f63cae\n",
      "successeur                                      None\n",
      "Name: 2359, dtype: object\n",
      "nom                                  Auvers-sur-Oise\n",
      "type                                             COM\n",
      "dateDebut                                 1943-01-01\n",
      "code                                           78039\n",
      "predecesseur                                    None\n",
      "id                              COM-78039@1943-01-01\n",
      "idEvt           904dcf14-b895-4686-a5c5-7304c6f63cae\n",
      "successeur                                      None\n",
      "Name: 2397, dtype: object\n",
      "nom                                       Faverolles\n",
      "type                                             COM\n",
      "dateDebut                                 1943-01-01\n",
      "code                                           36072\n",
      "predecesseur                                    None\n",
      "id                              COM-36072@1943-01-01\n",
      "idEvt           904dcf14-b895-4686-a5c5-7304c6f63cae\n",
      "successeur                                      None\n",
      "Name: 2602, dtype: object\n",
      "nom                                          Pisdorf\n",
      "type                                             COM\n",
      "dateDebut                                 1943-01-01\n",
      "code                                           67376\n",
      "predecesseur                                    None\n",
      "id                              COM-67376@1943-01-01\n",
      "idEvt           904dcf14-b895-4686-a5c5-7304c6f63cae\n",
      "successeur                                      None\n",
      "Name: 2886, dtype: object\n",
      "nom                                          Baillet\n",
      "type                                             COM\n",
      "dateDebut                                 1943-01-01\n",
      "code                                           78042\n",
      "predecesseur                                    None\n",
      "id                              COM-78042@1943-01-01\n",
      "idEvt           904dcf14-b895-4686-a5c5-7304c6f63cae\n",
      "successeur                                      None\n",
      "Name: 3303, dtype: object\n",
      "nom                              Puiseux-les-Louvres\n",
      "type                                             COM\n",
      "dateDebut                                 1943-01-01\n",
      "code                                           78509\n",
      "predecesseur                                    None\n",
      "id                              COM-78509@1943-01-01\n",
      "idEvt           904dcf14-b895-4686-a5c5-7304c6f63cae\n",
      "successeur                                      None\n",
      "Name: 3386, dtype: object\n",
      "nom                         Saint-Ouen-de-la-Rouërie\n",
      "type                                             COM\n",
      "dateDebut                                 1943-01-01\n",
      "code                                           35303\n",
      "predecesseur                                    None\n",
      "id                              COM-35303@1943-01-01\n",
      "idEvt           904dcf14-b895-4686-a5c5-7304c6f63cae\n",
      "successeur                                      None\n",
      "Name: 3434, dtype: object\n",
      "nom                                           Préaux\n",
      "type                                             COM\n",
      "dateDebut                                 1943-01-01\n",
      "code                                           61337\n",
      "predecesseur                                    None\n",
      "id                              COM-61337@1943-01-01\n",
      "idEvt           904dcf14-b895-4686-a5c5-7304c6f63cae\n",
      "successeur                                      None\n",
      "Name: 3444, dtype: object\n",
      "nom                                      Lanslebourg\n",
      "type                                             COM\n",
      "dateDebut                                 1943-01-01\n",
      "code                                           73143\n",
      "predecesseur                                    None\n",
      "id                              COM-73143@1943-01-01\n",
      "idEvt           904dcf14-b895-4686-a5c5-7304c6f63cae\n",
      "successeur                                      None\n",
      "Name: 3878, dtype: object\n",
      "nom                                            Bagat\n",
      "type                                             COM\n",
      "dateDebut                                 1943-01-01\n",
      "code                                           46014\n",
      "predecesseur                                    None\n",
      "id                              COM-46014@1943-01-01\n",
      "idEvt           904dcf14-b895-4686-a5c5-7304c6f63cae\n",
      "successeur                                      None\n",
      "Name: 4075, dtype: object\n",
      "nom                                      Ballancourt\n",
      "type                                             COM\n",
      "dateDebut                                 1943-01-01\n",
      "code                                           78045\n",
      "predecesseur                                    None\n",
      "id                              COM-78045@1943-01-01\n",
      "idEvt           904dcf14-b895-4686-a5c5-7304c6f63cae\n",
      "successeur                                      None\n",
      "Name: 4632, dtype: object\n"
     ]
    },
    {
     "name": "stdout",
     "output_type": "stream",
     "text": [
      "nom                                             Vaux\n",
      "type                                             COM\n",
      "dateDebut                                 1943-01-01\n",
      "code                                           25593\n",
      "predecesseur                                    None\n",
      "id                              COM-25593@1943-01-01\n",
      "idEvt           904dcf14-b895-4686-a5c5-7304c6f63cae\n",
      "successeur                                      None\n",
      "Name: 4774, dtype: object\n",
      "nom                                            Ceaux\n",
      "type                                             COM\n",
      "dateDebut                                 1943-01-01\n",
      "code                                           86043\n",
      "predecesseur                                    None\n",
      "id                              COM-86043@1943-01-01\n",
      "idEvt           904dcf14-b895-4686-a5c5-7304c6f63cae\n",
      "successeur                                      None\n",
      "Name: 4839, dtype: object\n",
      "nom                                          Bagnols\n",
      "type                                             COM\n",
      "dateDebut                                 1943-01-01\n",
      "code                                           48014\n",
      "predecesseur                                    None\n",
      "id                              COM-48014@1943-01-01\n",
      "idEvt           904dcf14-b895-4686-a5c5-7304c6f63cae\n",
      "successeur                                      None\n",
      "Name: 4882, dtype: object\n",
      "nom                                            Percy\n",
      "type                                             COM\n",
      "dateDebut                                 1943-01-01\n",
      "code                                           14493\n",
      "predecesseur                                    None\n",
      "id                              COM-14493@1943-01-01\n",
      "idEvt           904dcf14-b895-4686-a5c5-7304c6f63cae\n",
      "successeur                                      None\n",
      "Name: 5072, dtype: object\n",
      "nom                                            Berny\n",
      "type                                             COM\n",
      "dateDebut                                 1943-01-01\n",
      "code                                           80091\n",
      "predecesseur                                    None\n",
      "id                              COM-80091@1943-01-01\n",
      "idEvt           904dcf14-b895-4686-a5c5-7304c6f63cae\n",
      "successeur                                      None\n",
      "Name: 5087, dtype: object\n",
      "nom                                       Grandchamp\n",
      "type                                             COM\n",
      "dateDebut                                 1943-01-01\n",
      "code                                           14313\n",
      "predecesseur                                    None\n",
      "id                              COM-14313@1943-01-01\n",
      "idEvt           904dcf14-b895-4686-a5c5-7304c6f63cae\n",
      "successeur                                      None\n",
      "Name: 5663, dtype: object\n",
      "nom                            Viellenave-de-Bidache\n",
      "type                                             COM\n",
      "dateDebut                                 1943-01-01\n",
      "code                                           64553\n",
      "predecesseur                                    None\n",
      "id                              COM-64553@1943-01-01\n",
      "idEvt           904dcf14-b895-4686-a5c5-7304c6f63cae\n",
      "successeur                                      None\n",
      "Name: 5772, dtype: object\n",
      "nom                                          Saintry\n",
      "type                                             COM\n",
      "dateDebut                                 1943-01-01\n",
      "code                                           78577\n",
      "predecesseur                                    None\n",
      "id                              COM-78577@1943-01-01\n",
      "idEvt           904dcf14-b895-4686-a5c5-7304c6f63cae\n",
      "successeur                                      None\n",
      "Name: 5853, dtype: object\n",
      "nom                                     La Pommeraie\n",
      "type                                             COM\n",
      "dateDebut                                 1943-01-01\n",
      "code                                           85180\n",
      "predecesseur                                    None\n",
      "id                              COM-85180@1943-01-01\n",
      "idEvt           904dcf14-b895-4686-a5c5-7304c6f63cae\n",
      "successeur                                      None\n",
      "Name: 6277, dtype: object\n",
      "nom                                        Ventiseri\n",
      "type                                             COM\n",
      "dateDebut                                 1943-01-01\n",
      "code                                           20342\n",
      "predecesseur                                    None\n",
      "id                              COM-20342@1943-01-01\n",
      "idEvt           904dcf14-b895-4686-a5c5-7304c6f63cae\n",
      "successeur                                      None\n",
      "Name: 6502, dtype: object\n",
      "nom                                             Mana\n",
      "type                                             COM\n",
      "dateDebut                                 1943-01-01\n",
      "code                                           97355\n",
      "predecesseur                                    None\n",
      "id                              COM-97355@1943-01-01\n",
      "idEvt           904dcf14-b895-4686-a5c5-7304c6f63cae\n",
      "successeur                                      None\n",
      "Name: 6737, dtype: object\n",
      "nom                                      La Chapelle\n",
      "type                                             COM\n",
      "dateDebut                                 1943-01-01\n",
      "code                                           56037\n",
      "predecesseur                                    None\n",
      "id                              COM-56037@1943-01-01\n",
      "idEvt           904dcf14-b895-4686-a5c5-7304c6f63cae\n",
      "successeur                                      None\n",
      "Name: 7094, dtype: object\n",
      "nom                                            Deuil\n",
      "type                                             COM\n",
      "dateDebut                                 1943-01-01\n",
      "code                                           78197\n",
      "predecesseur                                    None\n",
      "id                              COM-78197@1943-01-01\n",
      "idEvt           904dcf14-b895-4686-a5c5-7304c6f63cae\n",
      "successeur                                      None\n",
      "Name: 7436, dtype: object\n",
      "nom                       Halling-lès-Boulay-Moselle\n",
      "type                                             COM\n",
      "dateDebut                                 1943-01-01\n",
      "code                                           57285\n",
      "predecesseur                                    None\n",
      "id                              COM-57285@1943-01-01\n",
      "idEvt           904dcf14-b895-4686-a5c5-7304c6f63cae\n",
      "successeur                                      None\n",
      "Name: 7686, dtype: object\n",
      "nom                                          Hostias\n",
      "type                                             COM\n",
      "dateDebut                                 1943-01-01\n",
      "code                                           01186\n",
      "predecesseur                                    None\n",
      "id                              COM-01186@1943-01-01\n",
      "idEvt           904dcf14-b895-4686-a5c5-7304c6f63cae\n",
      "successeur                                      None\n",
      "Name: 7706, dtype: object\n",
      "nom                                        Castillon\n",
      "type                                             COM\n",
      "dateDebut                                 1943-01-01\n",
      "code                                           33107\n",
      "predecesseur                                    None\n",
      "id                              COM-33107@1943-01-01\n",
      "idEvt           904dcf14-b895-4686-a5c5-7304c6f63cae\n",
      "successeur                                      None\n",
      "Name: 7991, dtype: object\n",
      "nom                                         Volandry\n",
      "type                                             COM\n",
      "dateDebut                                 1943-01-01\n",
      "code                                           49380\n",
      "predecesseur                                    None\n",
      "id                              COM-49380@1943-01-01\n",
      "idEvt           904dcf14-b895-4686-a5c5-7304c6f63cae\n",
      "successeur                                      None\n",
      "Name: 8016, dtype: object\n",
      "nom                                         Villiers\n",
      "type                                             COM\n",
      "dateDebut                                 1943-01-01\n",
      "code                                           50640\n",
      "predecesseur                                    None\n",
      "id                              COM-50640@1943-01-01\n",
      "idEvt           904dcf14-b895-4686-a5c5-7304c6f63cae\n",
      "successeur                                      None\n",
      "Name: 8098, dtype: object\n",
      "nom                                             Dain\n",
      "type                                             COM\n",
      "dateDebut                                 1943-01-01\n",
      "code                                           57164\n",
      "predecesseur                                    None\n",
      "id                              COM-57164@1943-01-01\n",
      "idEvt           904dcf14-b895-4686-a5c5-7304c6f63cae\n",
      "successeur                                      None\n",
      "Name: 8337, dtype: object\n"
     ]
    },
    {
     "name": "stdout",
     "output_type": "stream",
     "text": [
      "nom                                      Coudekerque\n",
      "type                                             COM\n",
      "dateDebut                                 1943-01-01\n",
      "code                                           59154\n",
      "predecesseur                                    None\n",
      "id                              COM-59154@1943-01-01\n",
      "idEvt           904dcf14-b895-4686-a5c5-7304c6f63cae\n",
      "successeur                                      None\n",
      "Name: 8431, dtype: object\n",
      "nom                                            Bures\n",
      "type                                             COM\n",
      "dateDebut                                 1943-01-01\n",
      "code                                           14114\n",
      "predecesseur                                    None\n",
      "id                              COM-14114@1943-01-01\n",
      "idEvt           904dcf14-b895-4686-a5c5-7304c6f63cae\n",
      "successeur                                      None\n",
      "Name: 8454, dtype: object\n",
      "nom                                    Saint-Germain\n",
      "type                                             COM\n",
      "dateDebut                                 1943-01-01\n",
      "code                                           16322\n",
      "predecesseur                                    None\n",
      "id                              COM-16322@1943-01-01\n",
      "idEvt           904dcf14-b895-4686-a5c5-7304c6f63cae\n",
      "successeur                                      None\n",
      "Name: 8473, dtype: object\n",
      "nom                                         Montjean\n",
      "type                                             COM\n",
      "dateDebut                                 1943-01-01\n",
      "code                                           49212\n",
      "predecesseur                                    None\n",
      "id                              COM-49212@1943-01-01\n",
      "idEvt           904dcf14-b895-4686-a5c5-7304c6f63cae\n",
      "successeur                                      None\n",
      "Name: 8910, dtype: object\n"
     ]
    },
    {
     "ename": "KeyboardInterrupt",
     "evalue": "",
     "output_type": "error",
     "traceback": [
      "\u001b[0;31m---------------------------------------------------------------------------\u001b[0m",
      "\u001b[0;31mKeyboardInterrupt\u001b[0m                         Traceback (most recent call last)",
      "\u001b[0;32m/var/folders/cg/b2_z5vjn52x7nyrtvtmwqsqh0000gp/T/ipykernel_63635/1621141798.py\u001b[0m in \u001b[0;36m<module>\u001b[0;34m\u001b[0m\n\u001b[1;32m      1\u001b[0m \u001b[0;32mfor\u001b[0m \u001b[0mindex\u001b[0m\u001b[0;34m,\u001b[0m \u001b[0mrow\u001b[0m \u001b[0;32min\u001b[0m \u001b[0mtiti\u001b[0m\u001b[0;34m.\u001b[0m\u001b[0miterrows\u001b[0m\u001b[0;34m(\u001b[0m\u001b[0;34m)\u001b[0m\u001b[0;34m:\u001b[0m\u001b[0;34m\u001b[0m\u001b[0;34m\u001b[0m\u001b[0m\n\u001b[1;32m      2\u001b[0m     \u001b[0;32mif\u001b[0m\u001b[0;34m(\u001b[0m\u001b[0mrow\u001b[0m\u001b[0;34m[\u001b[0m\u001b[0;34m'successeur'\u001b[0m\u001b[0;34m]\u001b[0m \u001b[0;32mis\u001b[0m \u001b[0;32mNone\u001b[0m\u001b[0;34m)\u001b[0m\u001b[0;34m:\u001b[0m\u001b[0;34m\u001b[0m\u001b[0;34m\u001b[0m\u001b[0m\n\u001b[0;32m----> 3\u001b[0;31m         \u001b[0;32mif\u001b[0m\u001b[0;34m(\u001b[0m\u001b[0mcog\u001b[0m\u001b[0;34m[\u001b[0m\u001b[0;34m(\u001b[0m\u001b[0mcog\u001b[0m\u001b[0;34m[\u001b[0m\u001b[0;34m'TYPECOM'\u001b[0m\u001b[0;34m]\u001b[0m \u001b[0;34m==\u001b[0m \u001b[0mrow\u001b[0m\u001b[0;34m[\u001b[0m\u001b[0;34m'type'\u001b[0m\u001b[0;34m]\u001b[0m\u001b[0;34m)\u001b[0m \u001b[0;34m&\u001b[0m \u001b[0;34m(\u001b[0m\u001b[0mcog\u001b[0m\u001b[0;34m[\u001b[0m\u001b[0;34m'COM'\u001b[0m\u001b[0;34m]\u001b[0m \u001b[0;34m==\u001b[0m \u001b[0mrow\u001b[0m\u001b[0;34m[\u001b[0m\u001b[0;34m'code'\u001b[0m\u001b[0;34m]\u001b[0m\u001b[0;34m)\u001b[0m\u001b[0;34m]\u001b[0m\u001b[0;34m.\u001b[0m\u001b[0mshape\u001b[0m\u001b[0;34m[\u001b[0m\u001b[0;36m0\u001b[0m\u001b[0;34m]\u001b[0m \u001b[0;34m==\u001b[0m \u001b[0;36m0\u001b[0m\u001b[0;34m)\u001b[0m\u001b[0;34m:\u001b[0m\u001b[0;34m\u001b[0m\u001b[0;34m\u001b[0m\u001b[0m\n\u001b[0m\u001b[1;32m      4\u001b[0m             \u001b[0mprint\u001b[0m\u001b[0;34m(\u001b[0m\u001b[0mrow\u001b[0m\u001b[0;34m)\u001b[0m\u001b[0;34m\u001b[0m\u001b[0;34m\u001b[0m\u001b[0m\n",
      "\u001b[0;32m~/.pyenv/versions/3.8.12/envs/analytics/lib/python3.8/site-packages/pandas/core/ops/common.py\u001b[0m in \u001b[0;36mnew_method\u001b[0;34m(self, other)\u001b[0m\n\u001b[1;32m     67\u001b[0m         \u001b[0mother\u001b[0m \u001b[0;34m=\u001b[0m \u001b[0mitem_from_zerodim\u001b[0m\u001b[0;34m(\u001b[0m\u001b[0mother\u001b[0m\u001b[0;34m)\u001b[0m\u001b[0;34m\u001b[0m\u001b[0;34m\u001b[0m\u001b[0m\n\u001b[1;32m     68\u001b[0m \u001b[0;34m\u001b[0m\u001b[0m\n\u001b[0;32m---> 69\u001b[0;31m         \u001b[0;32mreturn\u001b[0m \u001b[0mmethod\u001b[0m\u001b[0;34m(\u001b[0m\u001b[0mself\u001b[0m\u001b[0;34m,\u001b[0m \u001b[0mother\u001b[0m\u001b[0;34m)\u001b[0m\u001b[0;34m\u001b[0m\u001b[0;34m\u001b[0m\u001b[0m\n\u001b[0m\u001b[1;32m     70\u001b[0m \u001b[0;34m\u001b[0m\u001b[0m\n\u001b[1;32m     71\u001b[0m     \u001b[0;32mreturn\u001b[0m \u001b[0mnew_method\u001b[0m\u001b[0;34m\u001b[0m\u001b[0;34m\u001b[0m\u001b[0m\n",
      "\u001b[0;32m~/.pyenv/versions/3.8.12/envs/analytics/lib/python3.8/site-packages/pandas/core/arraylike.py\u001b[0m in \u001b[0;36m__eq__\u001b[0;34m(self, other)\u001b[0m\n\u001b[1;32m     30\u001b[0m     \u001b[0;34m@\u001b[0m\u001b[0munpack_zerodim_and_defer\u001b[0m\u001b[0;34m(\u001b[0m\u001b[0;34m\"__eq__\"\u001b[0m\u001b[0;34m)\u001b[0m\u001b[0;34m\u001b[0m\u001b[0;34m\u001b[0m\u001b[0m\n\u001b[1;32m     31\u001b[0m     \u001b[0;32mdef\u001b[0m \u001b[0m__eq__\u001b[0m\u001b[0;34m(\u001b[0m\u001b[0mself\u001b[0m\u001b[0;34m,\u001b[0m \u001b[0mother\u001b[0m\u001b[0;34m)\u001b[0m\u001b[0;34m:\u001b[0m\u001b[0;34m\u001b[0m\u001b[0;34m\u001b[0m\u001b[0m\n\u001b[0;32m---> 32\u001b[0;31m         \u001b[0;32mreturn\u001b[0m \u001b[0mself\u001b[0m\u001b[0;34m.\u001b[0m\u001b[0m_cmp_method\u001b[0m\u001b[0;34m(\u001b[0m\u001b[0mother\u001b[0m\u001b[0;34m,\u001b[0m \u001b[0moperator\u001b[0m\u001b[0;34m.\u001b[0m\u001b[0meq\u001b[0m\u001b[0;34m)\u001b[0m\u001b[0;34m\u001b[0m\u001b[0;34m\u001b[0m\u001b[0m\n\u001b[0m\u001b[1;32m     33\u001b[0m \u001b[0;34m\u001b[0m\u001b[0m\n\u001b[1;32m     34\u001b[0m     \u001b[0;34m@\u001b[0m\u001b[0munpack_zerodim_and_defer\u001b[0m\u001b[0;34m(\u001b[0m\u001b[0;34m\"__ne__\"\u001b[0m\u001b[0;34m)\u001b[0m\u001b[0;34m\u001b[0m\u001b[0;34m\u001b[0m\u001b[0m\n",
      "\u001b[0;32m~/.pyenv/versions/3.8.12/envs/analytics/lib/python3.8/site-packages/pandas/core/series.py\u001b[0m in \u001b[0;36m_cmp_method\u001b[0;34m(self, other, op)\u001b[0m\n\u001b[1;32m   5500\u001b[0m \u001b[0;34m\u001b[0m\u001b[0m\n\u001b[1;32m   5501\u001b[0m         \u001b[0;32mwith\u001b[0m \u001b[0mnp\u001b[0m\u001b[0;34m.\u001b[0m\u001b[0merrstate\u001b[0m\u001b[0;34m(\u001b[0m\u001b[0mall\u001b[0m\u001b[0;34m=\u001b[0m\u001b[0;34m\"ignore\"\u001b[0m\u001b[0;34m)\u001b[0m\u001b[0;34m:\u001b[0m\u001b[0;34m\u001b[0m\u001b[0;34m\u001b[0m\u001b[0m\n\u001b[0;32m-> 5502\u001b[0;31m             \u001b[0mres_values\u001b[0m \u001b[0;34m=\u001b[0m \u001b[0mops\u001b[0m\u001b[0;34m.\u001b[0m\u001b[0mcomparison_op\u001b[0m\u001b[0;34m(\u001b[0m\u001b[0mlvalues\u001b[0m\u001b[0;34m,\u001b[0m \u001b[0mrvalues\u001b[0m\u001b[0;34m,\u001b[0m \u001b[0mop\u001b[0m\u001b[0;34m)\u001b[0m\u001b[0;34m\u001b[0m\u001b[0;34m\u001b[0m\u001b[0m\n\u001b[0m\u001b[1;32m   5503\u001b[0m \u001b[0;34m\u001b[0m\u001b[0m\n\u001b[1;32m   5504\u001b[0m         \u001b[0;32mreturn\u001b[0m \u001b[0mself\u001b[0m\u001b[0;34m.\u001b[0m\u001b[0m_construct_result\u001b[0m\u001b[0;34m(\u001b[0m\u001b[0mres_values\u001b[0m\u001b[0;34m,\u001b[0m \u001b[0mname\u001b[0m\u001b[0;34m=\u001b[0m\u001b[0mres_name\u001b[0m\u001b[0;34m)\u001b[0m\u001b[0;34m\u001b[0m\u001b[0;34m\u001b[0m\u001b[0m\n",
      "\u001b[0;32m~/.pyenv/versions/3.8.12/envs/analytics/lib/python3.8/site-packages/pandas/core/ops/array_ops.py\u001b[0m in \u001b[0;36mcomparison_op\u001b[0;34m(left, right, op)\u001b[0m\n\u001b[1;32m    282\u001b[0m \u001b[0;34m\u001b[0m\u001b[0m\n\u001b[1;32m    283\u001b[0m     \u001b[0;32melif\u001b[0m \u001b[0mis_object_dtype\u001b[0m\u001b[0;34m(\u001b[0m\u001b[0mlvalues\u001b[0m\u001b[0;34m.\u001b[0m\u001b[0mdtype\u001b[0m\u001b[0;34m)\u001b[0m \u001b[0;32mor\u001b[0m \u001b[0misinstance\u001b[0m\u001b[0;34m(\u001b[0m\u001b[0mrvalues\u001b[0m\u001b[0;34m,\u001b[0m \u001b[0mstr\u001b[0m\u001b[0;34m)\u001b[0m\u001b[0;34m:\u001b[0m\u001b[0;34m\u001b[0m\u001b[0;34m\u001b[0m\u001b[0m\n\u001b[0;32m--> 284\u001b[0;31m         \u001b[0mres_values\u001b[0m \u001b[0;34m=\u001b[0m \u001b[0mcomp_method_OBJECT_ARRAY\u001b[0m\u001b[0;34m(\u001b[0m\u001b[0mop\u001b[0m\u001b[0;34m,\u001b[0m \u001b[0mlvalues\u001b[0m\u001b[0;34m,\u001b[0m \u001b[0mrvalues\u001b[0m\u001b[0;34m)\u001b[0m\u001b[0;34m\u001b[0m\u001b[0;34m\u001b[0m\u001b[0m\n\u001b[0m\u001b[1;32m    285\u001b[0m \u001b[0;34m\u001b[0m\u001b[0m\n\u001b[1;32m    286\u001b[0m     \u001b[0;32melse\u001b[0m\u001b[0;34m:\u001b[0m\u001b[0;34m\u001b[0m\u001b[0;34m\u001b[0m\u001b[0m\n",
      "\u001b[0;32m~/.pyenv/versions/3.8.12/envs/analytics/lib/python3.8/site-packages/pandas/core/ops/array_ops.py\u001b[0m in \u001b[0;36mcomp_method_OBJECT_ARRAY\u001b[0;34m(op, x, y)\u001b[0m\n\u001b[1;32m     71\u001b[0m         \u001b[0mresult\u001b[0m \u001b[0;34m=\u001b[0m \u001b[0mlibops\u001b[0m\u001b[0;34m.\u001b[0m\u001b[0mvec_compare\u001b[0m\u001b[0;34m(\u001b[0m\u001b[0mx\u001b[0m\u001b[0;34m.\u001b[0m\u001b[0mravel\u001b[0m\u001b[0;34m(\u001b[0m\u001b[0;34m)\u001b[0m\u001b[0;34m,\u001b[0m \u001b[0my\u001b[0m\u001b[0;34m.\u001b[0m\u001b[0mravel\u001b[0m\u001b[0;34m(\u001b[0m\u001b[0;34m)\u001b[0m\u001b[0;34m,\u001b[0m \u001b[0mop\u001b[0m\u001b[0;34m)\u001b[0m\u001b[0;34m\u001b[0m\u001b[0;34m\u001b[0m\u001b[0m\n\u001b[1;32m     72\u001b[0m     \u001b[0;32melse\u001b[0m\u001b[0;34m:\u001b[0m\u001b[0;34m\u001b[0m\u001b[0;34m\u001b[0m\u001b[0m\n\u001b[0;32m---> 73\u001b[0;31m         \u001b[0mresult\u001b[0m \u001b[0;34m=\u001b[0m \u001b[0mlibops\u001b[0m\u001b[0;34m.\u001b[0m\u001b[0mscalar_compare\u001b[0m\u001b[0;34m(\u001b[0m\u001b[0mx\u001b[0m\u001b[0;34m.\u001b[0m\u001b[0mravel\u001b[0m\u001b[0;34m(\u001b[0m\u001b[0;34m)\u001b[0m\u001b[0;34m,\u001b[0m \u001b[0my\u001b[0m\u001b[0;34m,\u001b[0m \u001b[0mop\u001b[0m\u001b[0;34m)\u001b[0m\u001b[0;34m\u001b[0m\u001b[0;34m\u001b[0m\u001b[0m\n\u001b[0m\u001b[1;32m     74\u001b[0m     \u001b[0;32mreturn\u001b[0m \u001b[0mresult\u001b[0m\u001b[0;34m.\u001b[0m\u001b[0mreshape\u001b[0m\u001b[0;34m(\u001b[0m\u001b[0mx\u001b[0m\u001b[0;34m.\u001b[0m\u001b[0mshape\u001b[0m\u001b[0;34m)\u001b[0m\u001b[0;34m\u001b[0m\u001b[0;34m\u001b[0m\u001b[0m\n\u001b[1;32m     75\u001b[0m \u001b[0;34m\u001b[0m\u001b[0m\n",
      "\u001b[0;31mKeyboardInterrupt\u001b[0m: "
     ]
    }
   ],
   "source": [
    "for index, row in titi.iterrows():\n",
    "    if(row['successeur'] is None):\n",
    "        if(cog[(cog['TYPECOM'] == row['type']) & (cog['COM'] == row['code'])].shape[0] == 0):\n",
    "            print(row)"
   ]
  },
  {
   "cell_type": "code",
   "execution_count": 128,
   "metadata": {},
   "outputs": [
    {
     "data": {
      "text/html": [
       "<div>\n",
       "<style scoped>\n",
       "    .dataframe tbody tr th:only-of-type {\n",
       "        vertical-align: middle;\n",
       "    }\n",
       "\n",
       "    .dataframe tbody tr th {\n",
       "        vertical-align: top;\n",
       "    }\n",
       "\n",
       "    .dataframe thead th {\n",
       "        text-align: right;\n",
       "    }\n",
       "</style>\n",
       "<table border=\"1\" class=\"dataframe\">\n",
       "  <thead>\n",
       "    <tr style=\"text-align: right;\">\n",
       "      <th></th>\n",
       "      <th>TYPECOM</th>\n",
       "      <th>COM</th>\n",
       "      <th>REG</th>\n",
       "      <th>DEP</th>\n",
       "      <th>CTCD</th>\n",
       "      <th>ARR</th>\n",
       "      <th>TNCC</th>\n",
       "      <th>NCC</th>\n",
       "      <th>NCCENR</th>\n",
       "      <th>LIBELLE</th>\n",
       "      <th>CAN</th>\n",
       "      <th>COMPARENT</th>\n",
       "    </tr>\n",
       "  </thead>\n",
       "  <tbody>\n",
       "  </tbody>\n",
       "</table>\n",
       "</div>"
      ],
      "text/plain": [
       "Empty DataFrame\n",
       "Columns: [TYPECOM, COM, REG, DEP, CTCD, ARR, TNCC, NCC, NCCENR, LIBELLE, CAN, COMPARENT]\n",
       "Index: []"
      ]
     },
     "execution_count": 128,
     "metadata": {},
     "output_type": "execute_result"
    }
   ],
   "source": [
    "cog[cog['COM'] == '78639']"
   ]
  },
  {
   "cell_type": "code",
   "execution_count": 165,
   "metadata": {},
   "outputs": [
    {
     "data": {
      "text/html": [
       "<div>\n",
       "<style scoped>\n",
       "    .dataframe tbody tr th:only-of-type {\n",
       "        vertical-align: middle;\n",
       "    }\n",
       "\n",
       "    .dataframe tbody tr th {\n",
       "        vertical-align: top;\n",
       "    }\n",
       "\n",
       "    .dataframe thead th {\n",
       "        text-align: right;\n",
       "    }\n",
       "</style>\n",
       "<table border=\"1\" class=\"dataframe\">\n",
       "  <thead>\n",
       "    <tr style=\"text-align: right;\">\n",
       "      <th></th>\n",
       "      <th>nom</th>\n",
       "      <th>type</th>\n",
       "      <th>dateDebut</th>\n",
       "      <th>code</th>\n",
       "      <th>predecesseur</th>\n",
       "      <th>id</th>\n",
       "      <th>idEvt</th>\n",
       "      <th>successeur</th>\n",
       "    </tr>\n",
       "  </thead>\n",
       "  <tbody>\n",
       "    <tr>\n",
       "      <th>362</th>\n",
       "      <td>Monceaux</td>\n",
       "      <td>COM</td>\n",
       "      <td>1943-01-01</td>\n",
       "      <td>61280</td>\n",
       "      <td>None</td>\n",
       "      <td>COM-61280@1943-01-01</td>\n",
       "      <td>904dcf14-b895-4686-a5c5-7304c6f63cae</td>\n",
       "      <td>None</td>\n",
       "    </tr>\n",
       "    <tr>\n",
       "      <th>43006</th>\n",
       "      <td>Monceaux-au-Perche</td>\n",
       "      <td>COM</td>\n",
       "      <td>1992-09-01</td>\n",
       "      <td>61280</td>\n",
       "      <td>COM-61280@1943-01-01</td>\n",
       "      <td>COM-61280@1992-09-01</td>\n",
       "      <td>a779b151-7118-4fac-bd06-16818294a47b</td>\n",
       "      <td>COMT-61280-61247-61458-61250-61220-61305-61296...</td>\n",
       "    </tr>\n",
       "    <tr>\n",
       "      <th>43755</th>\n",
       "      <td>Monceaux-au-Perche</td>\n",
       "      <td>COMD</td>\n",
       "      <td>2016-01-01</td>\n",
       "      <td>61280</td>\n",
       "      <td>COMT-61280-61247-61458-61250-61220-61305-61296...</td>\n",
       "      <td>COMD-61280@2016-01-01</td>\n",
       "      <td>5dec92fc-40b7-4714-8dcd-c2c64dd0cb1c</td>\n",
       "      <td>None</td>\n",
       "    </tr>\n",
       "  </tbody>\n",
       "</table>\n",
       "</div>"
      ],
      "text/plain": [
       "                      nom  type   dateDebut   code  \\\n",
       "362              Monceaux   COM  1943-01-01  61280   \n",
       "43006  Monceaux-au-Perche   COM  1992-09-01  61280   \n",
       "43755  Monceaux-au-Perche  COMD  2016-01-01  61280   \n",
       "\n",
       "                                            predecesseur  \\\n",
       "362                                                 None   \n",
       "43006                               COM-61280@1943-01-01   \n",
       "43755  COMT-61280-61247-61458-61250-61220-61305-61296...   \n",
       "\n",
       "                          id                                 idEvt  \\\n",
       "362     COM-61280@1943-01-01  904dcf14-b895-4686-a5c5-7304c6f63cae   \n",
       "43006   COM-61280@1992-09-01  a779b151-7118-4fac-bd06-16818294a47b   \n",
       "43755  COMD-61280@2016-01-01  5dec92fc-40b7-4714-8dcd-c2c64dd0cb1c   \n",
       "\n",
       "                                              successeur  \n",
       "362                                                 None  \n",
       "43006  COMT-61280-61247-61458-61250-61220-61305-61296...  \n",
       "43755                                               None  "
      ]
     },
     "execution_count": 165,
     "metadata": {},
     "output_type": "execute_result"
    }
   ],
   "source": [
    "titi[titi['code'] == '61280']"
   ]
  },
  {
   "cell_type": "code",
   "execution_count": 168,
   "metadata": {},
   "outputs": [],
   "source": [
    "for index, row in titi.iterrows():\n",
    "    if(row['successeur'] is None):\n",
    "        if(titi[titi['predecesseur'] == row['id']].shape[0] > 0):\n",
    "            row['successeur'] = titi[titi['predecesseur'] == row['id']].iloc[0]['id']"
   ]
  },
  {
   "cell_type": "code",
   "execution_count": 214,
   "metadata": {},
   "outputs": [],
   "source": [
    "for index, row in titi.iterrows():\n",
    "    if(row['id'] == row['successeur']):\n",
    "        row['successeur'] = None"
   ]
  },
  {
   "cell_type": "code",
   "execution_count": 169,
   "metadata": {},
   "outputs": [
    {
     "data": {
      "text/html": [
       "<div>\n",
       "<style scoped>\n",
       "    .dataframe tbody tr th:only-of-type {\n",
       "        vertical-align: middle;\n",
       "    }\n",
       "\n",
       "    .dataframe tbody tr th {\n",
       "        vertical-align: top;\n",
       "    }\n",
       "\n",
       "    .dataframe thead th {\n",
       "        text-align: right;\n",
       "    }\n",
       "</style>\n",
       "<table border=\"1\" class=\"dataframe\">\n",
       "  <thead>\n",
       "    <tr style=\"text-align: right;\">\n",
       "      <th></th>\n",
       "      <th>nom</th>\n",
       "      <th>type</th>\n",
       "      <th>dateDebut</th>\n",
       "      <th>code</th>\n",
       "      <th>predecesseur</th>\n",
       "      <th>id</th>\n",
       "      <th>idEvt</th>\n",
       "      <th>successeur</th>\n",
       "    </tr>\n",
       "  </thead>\n",
       "  <tbody>\n",
       "    <tr>\n",
       "      <th>362</th>\n",
       "      <td>Monceaux</td>\n",
       "      <td>COM</td>\n",
       "      <td>1943-01-01</td>\n",
       "      <td>61280</td>\n",
       "      <td>None</td>\n",
       "      <td>COM-61280@1943-01-01</td>\n",
       "      <td>904dcf14-b895-4686-a5c5-7304c6f63cae</td>\n",
       "      <td>COM-61280@1992-09-01</td>\n",
       "    </tr>\n",
       "    <tr>\n",
       "      <th>43006</th>\n",
       "      <td>Monceaux-au-Perche</td>\n",
       "      <td>COM</td>\n",
       "      <td>1992-09-01</td>\n",
       "      <td>61280</td>\n",
       "      <td>COM-61280@1943-01-01</td>\n",
       "      <td>COM-61280@1992-09-01</td>\n",
       "      <td>a779b151-7118-4fac-bd06-16818294a47b</td>\n",
       "      <td>COMT-61280-61247-61458-61250-61220-61305-61296...</td>\n",
       "    </tr>\n",
       "    <tr>\n",
       "      <th>43755</th>\n",
       "      <td>Monceaux-au-Perche</td>\n",
       "      <td>COMD</td>\n",
       "      <td>2016-01-01</td>\n",
       "      <td>61280</td>\n",
       "      <td>COMT-61280-61247-61458-61250-61220-61305-61296...</td>\n",
       "      <td>COMD-61280@2016-01-01</td>\n",
       "      <td>5dec92fc-40b7-4714-8dcd-c2c64dd0cb1c</td>\n",
       "      <td>None</td>\n",
       "    </tr>\n",
       "  </tbody>\n",
       "</table>\n",
       "</div>"
      ],
      "text/plain": [
       "                      nom  type   dateDebut   code  \\\n",
       "362              Monceaux   COM  1943-01-01  61280   \n",
       "43006  Monceaux-au-Perche   COM  1992-09-01  61280   \n",
       "43755  Monceaux-au-Perche  COMD  2016-01-01  61280   \n",
       "\n",
       "                                            predecesseur  \\\n",
       "362                                                 None   \n",
       "43006                               COM-61280@1943-01-01   \n",
       "43755  COMT-61280-61247-61458-61250-61220-61305-61296...   \n",
       "\n",
       "                          id                                 idEvt  \\\n",
       "362     COM-61280@1943-01-01  904dcf14-b895-4686-a5c5-7304c6f63cae   \n",
       "43006   COM-61280@1992-09-01  a779b151-7118-4fac-bd06-16818294a47b   \n",
       "43755  COMD-61280@2016-01-01  5dec92fc-40b7-4714-8dcd-c2c64dd0cb1c   \n",
       "\n",
       "                                              successeur  \n",
       "362                                 COM-61280@1992-09-01  \n",
       "43006  COMT-61280-61247-61458-61250-61220-61305-61296...  \n",
       "43755                                               None  "
      ]
     },
     "execution_count": 169,
     "metadata": {},
     "output_type": "execute_result"
    }
   ],
   "source": [
    "titi[titi['code'] == '61280']"
   ]
  },
  {
   "cell_type": "code",
   "execution_count": 174,
   "metadata": {},
   "outputs": [],
   "source": [
    "cog = cog[cog['TYPECOM'] != 'ARM']"
   ]
  },
  {
   "cell_type": "code",
   "execution_count": 215,
   "metadata": {},
   "outputs": [],
   "source": [
    "out = titi.copy()"
   ]
  },
  {
   "cell_type": "code",
   "execution_count": 202,
   "metadata": {},
   "outputs": [],
   "source": [
    "out = out[out['successeur'].isna()]"
   ]
  },
  {
   "cell_type": "code",
   "execution_count": 208,
   "metadata": {},
   "outputs": [
    {
     "name": "stdout",
     "output_type": "stream",
     "text": [
      "1000\n",
      "2000\n",
      "3000\n",
      "4000\n",
      "5000\n",
      "6000\n",
      "7000\n",
      "8000\n",
      "9000\n",
      "10000\n",
      "11000\n",
      "nom                                      Regniéville\n",
      "type                                             COM\n",
      "dateDebut                                 1943-01-01\n",
      "code                                           54448\n",
      "predecesseur                                    None\n",
      "id                              COM-54448@1943-01-01\n",
      "idEvt           904dcf14-b895-4686-a5c5-7304c6f63cae\n",
      "successeur                                      None\n",
      "Name: 15802, dtype: object\n",
      "12000\n",
      "13000\n",
      "14000\n",
      "15000\n",
      "16000\n",
      "nom                                          Lompnes\n",
      "type                                             COM\n",
      "dateDebut                                 1943-01-01\n",
      "code                                           01220\n",
      "predecesseur                                    None\n",
      "id                              COM-01220@1943-01-01\n",
      "idEvt           904dcf14-b895-4686-a5c5-7304c6f63cae\n",
      "successeur                                      None\n",
      "Name: 21762, dtype: object\n",
      "17000\n",
      "nom                                     Remenauville\n",
      "type                                             COM\n",
      "dateDebut                                 1943-01-01\n",
      "code                                           54454\n",
      "predecesseur                                    None\n",
      "id                              COM-54454@1943-01-01\n",
      "idEvt           904dcf14-b895-4686-a5c5-7304c6f63cae\n",
      "successeur                                      None\n",
      "Name: 23821, dtype: object\n",
      "18000\n",
      "19000\n",
      "nom                                          Palalda\n",
      "type                                             COM\n",
      "dateDebut                                 1943-01-01\n",
      "code                                           66131\n",
      "predecesseur                                    None\n",
      "id                              COM-66131@1943-01-01\n",
      "idEvt           904dcf14-b895-4686-a5c5-7304c6f63cae\n",
      "successeur                                      None\n",
      "Name: 25393, dtype: object\n",
      "20000\n",
      "21000\n",
      "22000\n",
      "23000\n",
      "24000\n",
      "25000\n",
      "26000\n",
      "27000\n",
      "28000\n",
      "29000\n",
      "30000\n",
      "31000\n",
      "32000\n",
      "33000\n",
      "34000\n",
      "35000\n",
      "36000\n",
      "37000\n"
     ]
    }
   ],
   "source": [
    "cpt = 0\n",
    "for index, row in out.iterrows():\n",
    "    cpt = cpt + 1\n",
    "    if(cpt % 1000 == 0):\n",
    "        print(cpt)\n",
    "    if((row['type'] != 'COMT') & (row['type'] != 'COMP')):\n",
    "        if(cog[(cog['TYPECOM'] == row['type']) & (cog['COM'] == row['code'])].shape[0] == 0):\n",
    "            print(row)"
   ]
  },
  {
   "cell_type": "code",
   "execution_count": 216,
   "metadata": {},
   "outputs": [
    {
     "name": "stdout",
     "output_type": "stream",
     "text": [
      "1000\n",
      "2000\n",
      "3000\n",
      "4000\n",
      "5000\n",
      "6000\n",
      "7000\n",
      "8000\n",
      "9000\n",
      "10000\n",
      "11000\n",
      "12000\n",
      "13000\n",
      "14000\n",
      "15000\n",
      "16000\n",
      "17000\n",
      "18000\n",
      "19000\n",
      "20000\n",
      "21000\n",
      "22000\n",
      "23000\n",
      "24000\n",
      "25000\n",
      "26000\n",
      "27000\n",
      "28000\n",
      "29000\n",
      "30000\n",
      "31000\n",
      "32000\n",
      "33000\n",
      "34000\n",
      "35000\n",
      "36000\n",
      "37000\n"
     ]
    }
   ],
   "source": [
    "cpt = 0\n",
    "for index, row in cog.iterrows():\n",
    "    cpt = cpt + 1\n",
    "    if(cpt % 1000 == 0):\n",
    "        print(cpt)\n",
    "    if(out[(out['type'] == row['TYPECOM']) & (out['code'] == row['COM'])].shape[0] == 0):\n",
    "        print(row)"
   ]
  },
  {
   "cell_type": "code",
   "execution_count": 217,
   "metadata": {},
   "outputs": [],
   "source": [
    "import json\n",
    "with open('graph-coms.json', 'w') as f:\n",
    "    json.dump(titi.to_dict(orient=\"records\"), f, indent=4)"
   ]
  },
  {
   "cell_type": "code",
   "execution_count": 218,
   "metadata": {},
   "outputs": [
    {
     "data": {
      "text/html": [
       "<div>\n",
       "<style scoped>\n",
       "    .dataframe tbody tr th:only-of-type {\n",
       "        vertical-align: middle;\n",
       "    }\n",
       "\n",
       "    .dataframe tbody tr th {\n",
       "        vertical-align: top;\n",
       "    }\n",
       "\n",
       "    .dataframe thead th {\n",
       "        text-align: right;\n",
       "    }\n",
       "</style>\n",
       "<table border=\"1\" class=\"dataframe\">\n",
       "  <thead>\n",
       "    <tr style=\"text-align: right;\">\n",
       "      <th></th>\n",
       "      <th>TYPECOM</th>\n",
       "      <th>COM</th>\n",
       "      <th>REG</th>\n",
       "      <th>DEP</th>\n",
       "      <th>CTCD</th>\n",
       "      <th>ARR</th>\n",
       "      <th>TNCC</th>\n",
       "      <th>NCC</th>\n",
       "      <th>NCCENR</th>\n",
       "      <th>LIBELLE</th>\n",
       "      <th>CAN</th>\n",
       "      <th>COMPARENT</th>\n",
       "    </tr>\n",
       "  </thead>\n",
       "  <tbody>\n",
       "    <tr>\n",
       "      <th>0</th>\n",
       "      <td>COM</td>\n",
       "      <td>01001</td>\n",
       "      <td>84.0</td>\n",
       "      <td>01</td>\n",
       "      <td>01D</td>\n",
       "      <td>012</td>\n",
       "      <td>5</td>\n",
       "      <td>ABERGEMENT CLEMENCIAT</td>\n",
       "      <td>Abergement-Clémenciat</td>\n",
       "      <td>L'Abergement-Clémenciat</td>\n",
       "      <td>0108</td>\n",
       "      <td>NaN</td>\n",
       "    </tr>\n",
       "    <tr>\n",
       "      <th>1</th>\n",
       "      <td>COM</td>\n",
       "      <td>01002</td>\n",
       "      <td>84.0</td>\n",
       "      <td>01</td>\n",
       "      <td>01D</td>\n",
       "      <td>011</td>\n",
       "      <td>5</td>\n",
       "      <td>ABERGEMENT DE VAREY</td>\n",
       "      <td>Abergement-de-Varey</td>\n",
       "      <td>L'Abergement-de-Varey</td>\n",
       "      <td>0101</td>\n",
       "      <td>NaN</td>\n",
       "    </tr>\n",
       "    <tr>\n",
       "      <th>2</th>\n",
       "      <td>COM</td>\n",
       "      <td>01004</td>\n",
       "      <td>84.0</td>\n",
       "      <td>01</td>\n",
       "      <td>01D</td>\n",
       "      <td>011</td>\n",
       "      <td>1</td>\n",
       "      <td>AMBERIEU EN BUGEY</td>\n",
       "      <td>Ambérieu-en-Bugey</td>\n",
       "      <td>Ambérieu-en-Bugey</td>\n",
       "      <td>0101</td>\n",
       "      <td>NaN</td>\n",
       "    </tr>\n",
       "    <tr>\n",
       "      <th>3</th>\n",
       "      <td>COM</td>\n",
       "      <td>01005</td>\n",
       "      <td>84.0</td>\n",
       "      <td>01</td>\n",
       "      <td>01D</td>\n",
       "      <td>012</td>\n",
       "      <td>1</td>\n",
       "      <td>AMBERIEUX EN DOMBES</td>\n",
       "      <td>Ambérieux-en-Dombes</td>\n",
       "      <td>Ambérieux-en-Dombes</td>\n",
       "      <td>0122</td>\n",
       "      <td>NaN</td>\n",
       "    </tr>\n",
       "    <tr>\n",
       "      <th>4</th>\n",
       "      <td>COM</td>\n",
       "      <td>01006</td>\n",
       "      <td>84.0</td>\n",
       "      <td>01</td>\n",
       "      <td>01D</td>\n",
       "      <td>011</td>\n",
       "      <td>1</td>\n",
       "      <td>AMBLEON</td>\n",
       "      <td>Ambléon</td>\n",
       "      <td>Ambléon</td>\n",
       "      <td>0104</td>\n",
       "      <td>NaN</td>\n",
       "    </tr>\n",
       "    <tr>\n",
       "      <th>...</th>\n",
       "      <td>...</td>\n",
       "      <td>...</td>\n",
       "      <td>...</td>\n",
       "      <td>...</td>\n",
       "      <td>...</td>\n",
       "      <td>...</td>\n",
       "      <td>...</td>\n",
       "      <td>...</td>\n",
       "      <td>...</td>\n",
       "      <td>...</td>\n",
       "      <td>...</td>\n",
       "      <td>...</td>\n",
       "    </tr>\n",
       "    <tr>\n",
       "      <th>37737</th>\n",
       "      <td>COM</td>\n",
       "      <td>97613</td>\n",
       "      <td>6.0</td>\n",
       "      <td>976</td>\n",
       "      <td>976D</td>\n",
       "      <td>NaN</td>\n",
       "      <td>0</td>\n",
       "      <td>M TSANGAMOUJI</td>\n",
       "      <td>M'Tsangamouji</td>\n",
       "      <td>M'Tsangamouji</td>\n",
       "      <td>97613</td>\n",
       "      <td>NaN</td>\n",
       "    </tr>\n",
       "    <tr>\n",
       "      <th>37738</th>\n",
       "      <td>COM</td>\n",
       "      <td>97614</td>\n",
       "      <td>6.0</td>\n",
       "      <td>976</td>\n",
       "      <td>976D</td>\n",
       "      <td>NaN</td>\n",
       "      <td>1</td>\n",
       "      <td>OUANGANI</td>\n",
       "      <td>Ouangani</td>\n",
       "      <td>Ouangani</td>\n",
       "      <td>97610</td>\n",
       "      <td>NaN</td>\n",
       "    </tr>\n",
       "    <tr>\n",
       "      <th>37739</th>\n",
       "      <td>COM</td>\n",
       "      <td>97615</td>\n",
       "      <td>6.0</td>\n",
       "      <td>976</td>\n",
       "      <td>976D</td>\n",
       "      <td>NaN</td>\n",
       "      <td>0</td>\n",
       "      <td>PAMANDZI</td>\n",
       "      <td>Pamandzi</td>\n",
       "      <td>Pamandzi</td>\n",
       "      <td>97611</td>\n",
       "      <td>NaN</td>\n",
       "    </tr>\n",
       "    <tr>\n",
       "      <th>37740</th>\n",
       "      <td>COM</td>\n",
       "      <td>97616</td>\n",
       "      <td>6.0</td>\n",
       "      <td>976</td>\n",
       "      <td>976D</td>\n",
       "      <td>NaN</td>\n",
       "      <td>0</td>\n",
       "      <td>SADA</td>\n",
       "      <td>Sada</td>\n",
       "      <td>Sada</td>\n",
       "      <td>97612</td>\n",
       "      <td>NaN</td>\n",
       "    </tr>\n",
       "    <tr>\n",
       "      <th>37741</th>\n",
       "      <td>COM</td>\n",
       "      <td>97617</td>\n",
       "      <td>6.0</td>\n",
       "      <td>976</td>\n",
       "      <td>976D</td>\n",
       "      <td>NaN</td>\n",
       "      <td>0</td>\n",
       "      <td>TSINGONI</td>\n",
       "      <td>Tsingoni</td>\n",
       "      <td>Tsingoni</td>\n",
       "      <td>97613</td>\n",
       "      <td>NaN</td>\n",
       "    </tr>\n",
       "  </tbody>\n",
       "</table>\n",
       "<p>37697 rows × 12 columns</p>\n",
       "</div>"
      ],
      "text/plain": [
       "      TYPECOM    COM   REG  DEP  CTCD  ARR  TNCC                    NCC  \\\n",
       "0         COM  01001  84.0   01   01D  012     5  ABERGEMENT CLEMENCIAT   \n",
       "1         COM  01002  84.0   01   01D  011     5    ABERGEMENT DE VAREY   \n",
       "2         COM  01004  84.0   01   01D  011     1      AMBERIEU EN BUGEY   \n",
       "3         COM  01005  84.0   01   01D  012     1    AMBERIEUX EN DOMBES   \n",
       "4         COM  01006  84.0   01   01D  011     1                AMBLEON   \n",
       "...       ...    ...   ...  ...   ...  ...   ...                    ...   \n",
       "37737     COM  97613   6.0  976  976D  NaN     0          M TSANGAMOUJI   \n",
       "37738     COM  97614   6.0  976  976D  NaN     1               OUANGANI   \n",
       "37739     COM  97615   6.0  976  976D  NaN     0               PAMANDZI   \n",
       "37740     COM  97616   6.0  976  976D  NaN     0                   SADA   \n",
       "37741     COM  97617   6.0  976  976D  NaN     0               TSINGONI   \n",
       "\n",
       "                      NCCENR                  LIBELLE    CAN  COMPARENT  \n",
       "0      Abergement-Clémenciat  L'Abergement-Clémenciat   0108        NaN  \n",
       "1        Abergement-de-Varey    L'Abergement-de-Varey   0101        NaN  \n",
       "2          Ambérieu-en-Bugey        Ambérieu-en-Bugey   0101        NaN  \n",
       "3        Ambérieux-en-Dombes      Ambérieux-en-Dombes   0122        NaN  \n",
       "4                    Ambléon                  Ambléon   0104        NaN  \n",
       "...                      ...                      ...    ...        ...  \n",
       "37737          M'Tsangamouji            M'Tsangamouji  97613        NaN  \n",
       "37738               Ouangani                 Ouangani  97610        NaN  \n",
       "37739               Pamandzi                 Pamandzi  97611        NaN  \n",
       "37740                   Sada                     Sada  97612        NaN  \n",
       "37741               Tsingoni                 Tsingoni  97613        NaN  \n",
       "\n",
       "[37697 rows x 12 columns]"
      ]
     },
     "execution_count": 218,
     "metadata": {},
     "output_type": "execute_result"
    }
   ],
   "source": [
    "cog"
   ]
  },
  {
   "cell_type": "code",
   "execution_count": 222,
   "metadata": {},
   "outputs": [
    {
     "data": {
      "text/html": [
       "<div>\n",
       "<style scoped>\n",
       "    .dataframe tbody tr th:only-of-type {\n",
       "        vertical-align: middle;\n",
       "    }\n",
       "\n",
       "    .dataframe tbody tr th {\n",
       "        vertical-align: top;\n",
       "    }\n",
       "\n",
       "    .dataframe thead th {\n",
       "        text-align: right;\n",
       "    }\n",
       "</style>\n",
       "<table border=\"1\" class=\"dataframe\">\n",
       "  <thead>\n",
       "    <tr style=\"text-align: right;\">\n",
       "      <th></th>\n",
       "      <th>TYPECOM</th>\n",
       "      <th>COM</th>\n",
       "      <th>REG</th>\n",
       "      <th>DEP</th>\n",
       "      <th>CTCD</th>\n",
       "      <th>ARR</th>\n",
       "      <th>TNCC</th>\n",
       "      <th>NCC</th>\n",
       "      <th>NCCENR</th>\n",
       "      <th>LIBELLE</th>\n",
       "      <th>CAN</th>\n",
       "      <th>COMPARENT</th>\n",
       "    </tr>\n",
       "  </thead>\n",
       "  <tbody>\n",
       "  </tbody>\n",
       "</table>\n",
       "</div>"
      ],
      "text/plain": [
       "Empty DataFrame\n",
       "Columns: [TYPECOM, COM, REG, DEP, CTCD, ARR, TNCC, NCC, NCCENR, LIBELLE, CAN, COMPARENT]\n",
       "Index: []"
      ]
     },
     "execution_count": 222,
     "metadata": {},
     "output_type": "execute_result"
    }
   ],
   "source": [
    "cog[cog['NCCENR'] == 'Boissy-sur-Damville']"
   ]
  },
  {
   "cell_type": "code",
   "execution_count": 223,
   "metadata": {},
   "outputs": [
    {
     "data": {
      "text/html": [
       "<div>\n",
       "<style scoped>\n",
       "    .dataframe tbody tr th:only-of-type {\n",
       "        vertical-align: middle;\n",
       "    }\n",
       "\n",
       "    .dataframe tbody tr th {\n",
       "        vertical-align: top;\n",
       "    }\n",
       "\n",
       "    .dataframe thead th {\n",
       "        text-align: right;\n",
       "    }\n",
       "</style>\n",
       "<table border=\"1\" class=\"dataframe\">\n",
       "  <thead>\n",
       "    <tr style=\"text-align: right;\">\n",
       "      <th></th>\n",
       "      <th>nom</th>\n",
       "      <th>type</th>\n",
       "      <th>dateDebut</th>\n",
       "      <th>code</th>\n",
       "      <th>predecesseur</th>\n",
       "      <th>id</th>\n",
       "      <th>idEvt</th>\n",
       "      <th>successeur</th>\n",
       "    </tr>\n",
       "  </thead>\n",
       "  <tbody>\n",
       "    <tr>\n",
       "      <th>2656</th>\n",
       "      <td>Boissy-sur-Damville</td>\n",
       "      <td>COM</td>\n",
       "      <td>1943-01-01</td>\n",
       "      <td>27080</td>\n",
       "      <td>None</td>\n",
       "      <td>COM-27080@1943-01-01</td>\n",
       "      <td>904dcf14-b895-4686-a5c5-7304c6f63cae</td>\n",
       "      <td>COMT-27416-27186-27080@1972-01-01</td>\n",
       "    </tr>\n",
       "    <tr>\n",
       "      <th>40114</th>\n",
       "      <td>Boissy-sur-Damville</td>\n",
       "      <td>COMA</td>\n",
       "      <td>1972-01-01</td>\n",
       "      <td>27080</td>\n",
       "      <td>COMT-27416-27186-27080@1972-01-01</td>\n",
       "      <td>COMA-27080@1972-01-01</td>\n",
       "      <td>b2193291-9d40-45dd-8e50-8d01a552aa24</td>\n",
       "      <td>COMT-27416@1978-07-01</td>\n",
       "    </tr>\n",
       "  </tbody>\n",
       "</table>\n",
       "</div>"
      ],
      "text/plain": [
       "                       nom  type   dateDebut   code  \\\n",
       "2656   Boissy-sur-Damville   COM  1943-01-01  27080   \n",
       "40114  Boissy-sur-Damville  COMA  1972-01-01  27080   \n",
       "\n",
       "                            predecesseur                     id  \\\n",
       "2656                                None   COM-27080@1943-01-01   \n",
       "40114  COMT-27416-27186-27080@1972-01-01  COMA-27080@1972-01-01   \n",
       "\n",
       "                                      idEvt                         successeur  \n",
       "2656   904dcf14-b895-4686-a5c5-7304c6f63cae  COMT-27416-27186-27080@1972-01-01  \n",
       "40114  b2193291-9d40-45dd-8e50-8d01a552aa24              COMT-27416@1978-07-01  "
      ]
     },
     "execution_count": 223,
     "metadata": {},
     "output_type": "execute_result"
    }
   ],
   "source": [
    "titi[titi['code'] == '27080']"
   ]
  },
  {
   "cell_type": "code",
   "execution_count": 225,
   "metadata": {},
   "outputs": [
    {
     "ename": "TypeError",
     "evalue": "contains() missing 1 required positional argument: 'pat'",
     "output_type": "error",
     "traceback": [
      "\u001b[0;31m---------------------------------------------------------------------------\u001b[0m",
      "\u001b[0;31mTypeError\u001b[0m                                 Traceback (most recent call last)",
      "\u001b[0;32m/var/folders/cg/b2_z5vjn52x7nyrtvtmwqsqh0000gp/T/ipykernel_63635/2137904545.py\u001b[0m in \u001b[0;36m<module>\u001b[0;34m\u001b[0m\n\u001b[0;32m----> 1\u001b[0;31m \u001b[0mtiti\u001b[0m\u001b[0;34m[\u001b[0m\u001b[0mtiti\u001b[0m\u001b[0;34m[\u001b[0m\u001b[0;34m'code'\u001b[0m\u001b[0;34m]\u001b[0m\u001b[0;34m.\u001b[0m\u001b[0mstr\u001b[0m\u001b[0;34m.\u001b[0m\u001b[0mcontains\u001b[0m\u001b[0;34m(\u001b[0m\u001b[0;34m)\u001b[0m \u001b[0;34m==\u001b[0m \u001b[0;34m'27416'\u001b[0m\u001b[0;34m]\u001b[0m\u001b[0;34m\u001b[0m\u001b[0;34m\u001b[0m\u001b[0m\n\u001b[0m",
      "\u001b[0;32m~/.pyenv/versions/3.8.12/envs/analytics/lib/python3.8/site-packages/pandas/core/strings/accessor.py\u001b[0m in \u001b[0;36mwrapper\u001b[0;34m(self, *args, **kwargs)\u001b[0m\n\u001b[1;32m    114\u001b[0m                 )\n\u001b[1;32m    115\u001b[0m                 \u001b[0;32mraise\u001b[0m \u001b[0mTypeError\u001b[0m\u001b[0;34m(\u001b[0m\u001b[0mmsg\u001b[0m\u001b[0;34m)\u001b[0m\u001b[0;34m\u001b[0m\u001b[0;34m\u001b[0m\u001b[0m\n\u001b[0;32m--> 116\u001b[0;31m             \u001b[0;32mreturn\u001b[0m \u001b[0mfunc\u001b[0m\u001b[0;34m(\u001b[0m\u001b[0mself\u001b[0m\u001b[0;34m,\u001b[0m \u001b[0;34m*\u001b[0m\u001b[0margs\u001b[0m\u001b[0;34m,\u001b[0m \u001b[0;34m**\u001b[0m\u001b[0mkwargs\u001b[0m\u001b[0;34m)\u001b[0m\u001b[0;34m\u001b[0m\u001b[0;34m\u001b[0m\u001b[0m\n\u001b[0m\u001b[1;32m    117\u001b[0m \u001b[0;34m\u001b[0m\u001b[0m\n\u001b[1;32m    118\u001b[0m         \u001b[0mwrapper\u001b[0m\u001b[0;34m.\u001b[0m\u001b[0m__name__\u001b[0m \u001b[0;34m=\u001b[0m \u001b[0mfunc_name\u001b[0m\u001b[0;34m\u001b[0m\u001b[0;34m\u001b[0m\u001b[0m\n",
      "\u001b[0;31mTypeError\u001b[0m: contains() missing 1 required positional argument: 'pat'"
     ]
    }
   ],
   "source": [
    "titi[titi['code'].str.contains() == '27416']"
   ]
  },
  {
   "cell_type": "code",
   "execution_count": null,
   "metadata": {},
   "outputs": [],
   "source": []
  },
  {
   "cell_type": "code",
   "execution_count": null,
   "metadata": {},
   "outputs": [],
   "source": []
  },
  {
   "cell_type": "code",
   "execution_count": null,
   "metadata": {},
   "outputs": [],
   "source": []
  },
  {
   "cell_type": "code",
   "execution_count": null,
   "metadata": {},
   "outputs": [],
   "source": []
  },
  {
   "cell_type": "code",
   "execution_count": null,
   "metadata": {},
   "outputs": [],
   "source": []
  },
  {
   "cell_type": "code",
   "execution_count": null,
   "metadata": {},
   "outputs": [],
   "source": []
  },
  {
   "cell_type": "markdown",
   "metadata": {},
   "source": [
    "Cas particulier:\n",
    "- Hauteville https://rdf.insee.fr/sparql/describe?uri=http%3A%2F%2Fid.insee.fr%2Fgeo%2Fcommune%2Fdef17c47-5128-401d-9e42-0690d8c0daae&default-graph-uri=data\n",
    "- Créé en 1943, supprimé en 1942....\n",
    "    "
   ]
  }
 ],
 "metadata": {
  "kernelspec": {
   "display_name": "Python 3 (ipykernel)",
   "language": "python",
   "name": "python3"
  },
  "language_info": {
   "codemirror_mode": {
    "name": "ipython",
    "version": 3
   },
   "file_extension": ".py",
   "mimetype": "text/x-python",
   "name": "python",
   "nbconvert_exporter": "python",
   "pygments_lexer": "ipython3",
   "version": "3.8.12"
  }
 },
 "nbformat": 4,
 "nbformat_minor": 2
}
