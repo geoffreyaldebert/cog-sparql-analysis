{
 "cells": [
  {
   "cell_type": "code",
   "execution_count": null,
   "metadata": {},
   "outputs": [],
   "source": [
    "from SPARQLWrapper import SPARQLWrapper, JSON"
   ]
  },
  {
   "cell_type": "code",
   "execution_count": null,
   "metadata": {},
   "outputs": [],
   "source": [
    "def get_all_ids_from_object(url):\n",
    "    objs = []\n",
    "\n",
    "    sparql = SPARQLWrapper(\"http://rdf.insee.fr/sparql\")\n",
    "    query = \"\"\"\n",
    "    SELECT * WHERE {\n",
    "     ?s a <\"\"\"+url+\"\"\">\n",
    "    }\n",
    "    \"\"\"\n",
    "    sparql.setQuery(query)\n",
    "    sparql.setReturnFormat(JSON)\n",
    "    results = sparql.query().convert()\n",
    "\n",
    "    for result in results[\"results\"][\"bindings\"]:\n",
    "        objs.append(result['s']['value'])\n",
    "    print('Nombre de {} : {}'.format(url.replace('http://rdf.insee.fr/def/geo#',''),len(objs)))\n",
    "    return objs\n"
   ]
  },
  {
   "cell_type": "code",
   "execution_count": null,
   "metadata": {},
   "outputs": [],
   "source": [
    "coms = get_all_ids_from_object(\"http://rdf.insee.fr/def/geo#Commune\")\n",
    "comds = get_all_ids_from_object(\"http://rdf.insee.fr/def/geo#CommuneAssociee\")\n",
    "comas = get_all_ids_from_object(\"http://rdf.insee.fr/def/geo#CommuneDeleguee\")\n",
    "comfs = get_all_ids_from_object(\"http://rdf.insee.fr/def/geo#CommuneFusionee\")\n",
    "evt = get_all_ids_from_object(\"http://rdf.insee.fr/def/geo#EvenementGeographique\")\n"
   ]
  },
  {
   "cell_type": "code",
   "execution_count": null,
   "metadata": {},
   "outputs": [],
   "source": []
  },
  {
   "cell_type": "code",
   "execution_count": null,
   "metadata": {},
   "outputs": [],
   "source": [
    "def get_info_com(typeCom, comArray):\n",
    "    print(\"-----\"+typeCom+\"-----\")\n",
    "    i = 0\n",
    "    for com in comArray:\n",
    "        if(i%100 == 0):\n",
    "            print(i)\n",
    "        i = i + 1\n",
    "        sparql = SPARQLWrapper(\"http://rdf.insee.fr/sparql\")\n",
    "        sparql.setQuery(\"\"\"\n",
    "           DESCRIBE <{}>\n",
    "        \"\"\".format(com))\n",
    "        sparql.setReturnFormat(JSON)\n",
    "        results = sparql.query().convert()\n",
    "        newcom = {}\n",
    "\n",
    "        for result in results[\"results\"][\"bindings\"]:\n",
    "            if(result['subject']['value'] == com):\n",
    "                if(result['predicate']['value'] == 'http://rdf.insee.fr/def/geo#codeINSEE'):\n",
    "                    newcom['codeInsee'] = result['object']['value']\n",
    "                if(result['predicate']['value'] == 'http://rdf.insee.fr/def/geo#nom'):\n",
    "                    newcom['nom'] = result['object']['value']\n",
    "                if(result['predicate']['value'] == 'http://rdf.insee.fr/def/geo#nomSansArticle'):\n",
    "                    newcom['nomSansArticle'] = result['object']['value']\n",
    "            if(result['object']['value'] == com):\n",
    "                if(result['predicate']['value'] == 'http://rdf.insee.fr/def/geo#creation'):\n",
    "                    newcom['evtCreation'] = result['subject']['value'].replace('http://id.insee.fr/geo/evenementGeographique/','')\n",
    "                if(result['predicate']['value'] == 'http://rdf.insee.fr/def/geo#suppression'):\n",
    "                    newcom['evtSuppression'] = result['subject']['value'].replace('http://id.insee.fr/geo/evenementGeographique/','')\n",
    "\n",
    "        newcom['id'] = com.replace('http://id.insee.fr/geo/commune/','').replace('http://id.insee.fr/geo/communeAssociee/','').replace('http://id.insee.fr/geo/communeDeleguee/','').replace('http://id.insee.fr/geo/communeFusionnee/','')\n",
    "        newcom['type'] = typeCom\n",
    "\n",
    "        listallcoms.append(newcom)"
   ]
  },
  {
   "cell_type": "markdown",
   "metadata": {},
   "source": [
    "Récupération du détail de toutes les communes (de tout type COMA COMD COM COMF) dans un tableau"
   ]
  },
  {
   "cell_type": "code",
   "execution_count": null,
   "metadata": {},
   "outputs": [],
   "source": [
    "listallcoms = []\n",
    "get_info_com('COM',coms)\n",
    "get_info_com('COMA',comas)\n",
    "get_info_com('COMD',comds)\n",
    "get_info_com('COMF',comfs)"
   ]
  },
  {
   "cell_type": "markdown",
   "metadata": {},
   "source": [
    "Sauvegarde dans un fichier local (pour éviter de rejouer ce code à chaque fois)"
   ]
  },
  {
   "cell_type": "code",
   "execution_count": null,
   "metadata": {},
   "outputs": [],
   "source": [
    "import json\n",
    "with open('coms.json', 'w') as f:\n",
    "    json.dump(listallcoms, f)"
   ]
  },
  {
   "cell_type": "markdown",
   "metadata": {},
   "source": [
    "Récupération du détail de tous les événements dans un tableau"
   ]
  },
  {
   "cell_type": "code",
   "execution_count": null,
   "metadata": {},
   "outputs": [],
   "source": [
    "listallevt = []\n",
    "i = 0\n",
    "for e in evt:\n",
    "    if(i%100 == 0):\n",
    "        print(i)\n",
    "    i = i + 1\n",
    "    sparql = SPARQLWrapper(\"http://rdf.insee.fr/sparql\")\n",
    "    sparql.setQuery(\"\"\"\n",
    "       DESCRIBE <{}>\n",
    "    \"\"\".format(e))\n",
    "    sparql.setReturnFormat(JSON)\n",
    "    results = sparql.query().convert()\n",
    "    newevt = {}\n",
    "    newevt['creation'] = []\n",
    "    newevt['suppression'] = []\n",
    "    \n",
    "    for result in results[\"results\"][\"bindings\"]:\n",
    "        if(result['predicate']['value'] == 'http://rdf.insee.fr/def/geo#creation'):\n",
    "            newevt['creation'].append(result['object']['value'].split('/')[-1])\n",
    "        if(result['predicate']['value'] == 'http://rdf.insee.fr/def/geo#suppression'):\n",
    "            newevt['suppression'].append(result['object']['value'].split('/')[-1])\n",
    "        if(result['predicate']['value'] == 'http://rdf.insee.fr/def/geo#date'):\n",
    "            newevt['date'] = result['object']['value']\n",
    "                \n",
    "    newevt['id'] = e.replace('http://id.insee.fr/geo/evenementGeographique/','')\n",
    "    newevt['type'] = 'evenement'\n",
    "\n",
    "    listallevt.append(newevt)"
   ]
  },
  {
   "cell_type": "markdown",
   "metadata": {},
   "source": [
    "Sauvegarde dans un fichier json pour éviter de rejouer le traitement"
   ]
  },
  {
   "cell_type": "code",
   "execution_count": null,
   "metadata": {},
   "outputs": [],
   "source": [
    "import json\n",
    "with open('evts.json', 'w') as f:\n",
    "    json.dump(listallevt, f)"
   ]
  }
 ],
 "metadata": {
  "kernelspec": {
   "display_name": "Python 3 (ipykernel)",
   "language": "python",
   "name": "python3"
  },
  "language_info": {
   "codemirror_mode": {
    "name": "ipython",
    "version": 3
   },
   "file_extension": ".py",
   "mimetype": "text/x-python",
   "name": "python",
   "nbconvert_exporter": "python",
   "pygments_lexer": "ipython3",
   "version": "3.7.4"
  }
 },
 "nbformat": 4,
 "nbformat_minor": 2
}
